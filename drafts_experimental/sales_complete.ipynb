{
 "cells": [
  {
   "cell_type": "code",
   "execution_count": 3,
   "metadata": {},
   "outputs": [],
   "source": [
    "#importing dependencies\n",
    "import pandas as pd\n",
    "import datetime as dt\n",
    "import numpy as np\n",
    "import matplotlib.pyplot as plt"
   ]
  },
  {
   "cell_type": "code",
   "execution_count": 4,
   "metadata": {},
   "outputs": [
    {
     "data": {
      "text/html": [
       "<div>\n",
       "<style scoped>\n",
       "    .dataframe tbody tr th:only-of-type {\n",
       "        vertical-align: middle;\n",
       "    }\n",
       "\n",
       "    .dataframe tbody tr th {\n",
       "        vertical-align: top;\n",
       "    }\n",
       "\n",
       "    .dataframe thead th {\n",
       "        text-align: right;\n",
       "    }\n",
       "</style>\n",
       "<table border=\"1\" class=\"dataframe\">\n",
       "  <thead>\n",
       "    <tr style=\"text-align: right;\">\n",
       "      <th></th>\n",
       "      <th>Item</th>\n",
       "      <th>Item Code</th>\n",
       "      <th>Quantity</th>\n",
       "      <th>Unit Price</th>\n",
       "      <th>Total Sales Amount</th>\n",
       "      <th>date</th>\n",
       "    </tr>\n",
       "  </thead>\n",
       "  <tbody>\n",
       "    <tr>\n",
       "      <th>0</th>\n",
       "      <td>PINT Spotted Cow</td>\n",
       "      <td>3140</td>\n",
       "      <td>64.0</td>\n",
       "      <td>3.937500</td>\n",
       "      <td>252.00</td>\n",
       "      <td>2021-01-08</td>\n",
       "    </tr>\n",
       "    <tr>\n",
       "      <th>1</th>\n",
       "      <td>DBL RAIL Vodka</td>\n",
       "      <td>3455</td>\n",
       "      <td>37.0</td>\n",
       "      <td>4.945946</td>\n",
       "      <td>183.00</td>\n",
       "      <td>2021-01-08</td>\n",
       "    </tr>\n",
       "    <tr>\n",
       "      <th>2</th>\n",
       "      <td>BTL Miller High Life</td>\n",
       "      <td>3122</td>\n",
       "      <td>31.0</td>\n",
       "      <td>3.250000</td>\n",
       "      <td>100.75</td>\n",
       "      <td>2021-01-08</td>\n",
       "    </tr>\n",
       "    <tr>\n",
       "      <th>3</th>\n",
       "      <td>PINT Stein</td>\n",
       "      <td>3141</td>\n",
       "      <td>29.0</td>\n",
       "      <td>3.517241</td>\n",
       "      <td>102.00</td>\n",
       "      <td>2021-01-08</td>\n",
       "    </tr>\n",
       "    <tr>\n",
       "      <th>4</th>\n",
       "      <td>SHOT Seagrams VO</td>\n",
       "      <td>3325</td>\n",
       "      <td>26.0</td>\n",
       "      <td>2.423077</td>\n",
       "      <td>63.00</td>\n",
       "      <td>2021-01-08</td>\n",
       "    </tr>\n",
       "  </tbody>\n",
       "</table>\n",
       "</div>"
      ],
      "text/plain": [
       "                   Item  Item Code  Quantity  Unit Price  Total Sales Amount  \\\n",
       "0      PINT Spotted Cow       3140      64.0    3.937500              252.00   \n",
       "1        DBL RAIL Vodka       3455      37.0    4.945946              183.00   \n",
       "2  BTL Miller High Life       3122      31.0    3.250000              100.75   \n",
       "3            PINT Stein       3141      29.0    3.517241              102.00   \n",
       "4      SHOT Seagrams VO       3325      26.0    2.423077               63.00   \n",
       "\n",
       "         date  \n",
       "0  2021-01-08  \n",
       "1  2021-01-08  \n",
       "2  2021-01-08  \n",
       "3  2021-01-08  \n",
       "4  2021-01-08  "
      ]
     },
     "execution_count": 4,
     "metadata": {},
     "output_type": "execute_result"
    }
   ],
   "source": [
    "sales_df = pd.read_csv('../Resources/weekly_sales_complete.csv')\n",
    "sales_df.head()"
   ]
  },
  {
   "cell_type": "code",
   "execution_count": 5,
   "metadata": {},
   "outputs": [
    {
     "data": {
      "text/plain": [
       "BTL Miller Lite       145\n",
       "BTL Bud Light         136\n",
       "RIVERWEST BURGER      128\n",
       "Cheese Curds          128\n",
       "SHOT Tullamore Dew    127\n",
       "                     ... \n",
       "LSF SCHLITZ             1\n",
       "Blonde Russian          1\n",
       "Hurricane               1\n",
       "Kesslers                1\n",
       "SHOT Angry Balls        1\n",
       "Name: Item, Length: 587, dtype: int64"
      ]
     },
     "execution_count": 5,
     "metadata": {},
     "output_type": "execute_result"
    }
   ],
   "source": [
    "sales_df.Item.value_counts()"
   ]
  },
  {
   "cell_type": "code",
   "execution_count": null,
   "metadata": {},
   "outputs": [],
   "source": []
  }
 ],
 "metadata": {
  "interpreter": {
   "hash": "6c8a553566e7d9d6570a2e7bc6a1c1923db0ab2cc93e684e65ee621f594b9463"
  },
  "kernelspec": {
   "display_name": "Python 3.7.10 64-bit ('mlenv': conda)",
   "name": "python3"
  },
  "language_info": {
   "codemirror_mode": {
    "name": "ipython",
    "version": 3
   },
   "file_extension": ".py",
   "mimetype": "text/x-python",
   "name": "python",
   "nbconvert_exporter": "python",
   "pygments_lexer": "ipython3",
   "version": "3.7.10"
  },
  "orig_nbformat": 4
 },
 "nbformat": 4,
 "nbformat_minor": 2
}
