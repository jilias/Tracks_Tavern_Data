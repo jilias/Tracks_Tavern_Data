{
 "cells": [
  {
   "cell_type": "code",
   "execution_count": 2,
   "id": "321c507c",
   "metadata": {},
   "outputs": [],
   "source": [
    "import matplotlib.pyplot as plt\n",
    "import seaborn as sns\n",
    "import numpy as np\n",
    "import pandas as pd\n",
    "from sklearn import linear_model"
   ]
  },
  {
   "cell_type": "code",
   "execution_count": 3,
   "id": "6833524a",
   "metadata": {},
   "outputs": [
    {
     "name": "stdout",
     "output_type": "stream",
     "text": [
      "['sales', 'weather']\n"
     ]
    },
    {
     "name": "stderr",
     "output_type": "stream",
     "text": [
      "C:\\Users\\Rica6\\anaconda3\\envs\\PythonData\\lib\\site-packages\\ipykernel_launcher.py:4: SADeprecationWarning: The Engine.table_names() method is deprecated and will be removed in a future release.  Please refer to Inspector.get_table_names(). (deprecated since: 1.4)\n",
      "  after removing the cwd from sys.path.\n"
     ]
    }
   ],
   "source": [
    "#Connect to the database\n",
    "import sqlalchemy as sql\n",
    "engine = sql.create_engine(\"sqlite:///../Database/sales.db\")\n",
    "print(engine.table_names())"
   ]
  },
  {
   "cell_type": "code",
   "execution_count": 4,
   "id": "408a1d01",
   "metadata": {},
   "outputs": [
    {
     "data": {
      "text/html": [
       "<div>\n",
       "<style scoped>\n",
       "    .dataframe tbody tr th:only-of-type {\n",
       "        vertical-align: middle;\n",
       "    }\n",
       "\n",
       "    .dataframe tbody tr th {\n",
       "        vertical-align: top;\n",
       "    }\n",
       "\n",
       "    .dataframe thead th {\n",
       "        text-align: right;\n",
       "    }\n",
       "</style>\n",
       "<table border=\"1\" class=\"dataframe\">\n",
       "  <thead>\n",
       "    <tr style=\"text-align: right;\">\n",
       "      <th></th>\n",
       "      <th>index</th>\n",
       "      <th>item</th>\n",
       "      <th>item_code</th>\n",
       "      <th>quantity</th>\n",
       "      <th>unit_price</th>\n",
       "      <th>total_sales_amount</th>\n",
       "      <th>date</th>\n",
       "      <th>Type</th>\n",
       "    </tr>\n",
       "  </thead>\n",
       "  <tbody>\n",
       "    <tr>\n",
       "      <th>0</th>\n",
       "      <td>0</td>\n",
       "      <td>PINT Spotted Cow</td>\n",
       "      <td>3140</td>\n",
       "      <td>64</td>\n",
       "      <td>3.937500</td>\n",
       "      <td>252.00</td>\n",
       "      <td>2021-01-08 00:00:00.000000</td>\n",
       "      <td>Beer</td>\n",
       "    </tr>\n",
       "    <tr>\n",
       "      <th>1</th>\n",
       "      <td>1</td>\n",
       "      <td>DBL RAIL Vodka</td>\n",
       "      <td>3455</td>\n",
       "      <td>37</td>\n",
       "      <td>4.945946</td>\n",
       "      <td>183.00</td>\n",
       "      <td>2021-01-08 00:00:00.000000</td>\n",
       "      <td>Vodka</td>\n",
       "    </tr>\n",
       "    <tr>\n",
       "      <th>2</th>\n",
       "      <td>2</td>\n",
       "      <td>BTL Miller High Life</td>\n",
       "      <td>3122</td>\n",
       "      <td>31</td>\n",
       "      <td>3.250000</td>\n",
       "      <td>100.75</td>\n",
       "      <td>2021-01-08 00:00:00.000000</td>\n",
       "      <td>Beer</td>\n",
       "    </tr>\n",
       "    <tr>\n",
       "      <th>3</th>\n",
       "      <td>3</td>\n",
       "      <td>PINT Stein</td>\n",
       "      <td>3141</td>\n",
       "      <td>29</td>\n",
       "      <td>3.517241</td>\n",
       "      <td>102.00</td>\n",
       "      <td>2021-01-08 00:00:00.000000</td>\n",
       "      <td>Beer</td>\n",
       "    </tr>\n",
       "    <tr>\n",
       "      <th>4</th>\n",
       "      <td>4</td>\n",
       "      <td>SHOT Seagrams VO</td>\n",
       "      <td>3325</td>\n",
       "      <td>26</td>\n",
       "      <td>2.423077</td>\n",
       "      <td>63.00</td>\n",
       "      <td>2021-01-08 00:00:00.000000</td>\n",
       "      <td>Scotch/Whiskey</td>\n",
       "    </tr>\n",
       "    <tr>\n",
       "      <th>...</th>\n",
       "      <td>...</td>\n",
       "      <td>...</td>\n",
       "      <td>...</td>\n",
       "      <td>...</td>\n",
       "      <td>...</td>\n",
       "      <td>...</td>\n",
       "      <td>...</td>\n",
       "      <td>...</td>\n",
       "    </tr>\n",
       "    <tr>\n",
       "      <th>23841</th>\n",
       "      <td>23841</td>\n",
       "      <td>Skyy Watermelon BOMB</td>\n",
       "      <td>3374</td>\n",
       "      <td>1</td>\n",
       "      <td>4.000000</td>\n",
       "      <td>4.00</td>\n",
       "      <td>2020-01-03 00:00:00.000000</td>\n",
       "      <td>Vodka</td>\n",
       "    </tr>\n",
       "    <tr>\n",
       "      <th>23842</th>\n",
       "      <td>23842</td>\n",
       "      <td>PIT LKFT Hazy Rabbit</td>\n",
       "      <td>3359</td>\n",
       "      <td>1</td>\n",
       "      <td>15.000000</td>\n",
       "      <td>15.00</td>\n",
       "      <td>2020-01-03 00:00:00.000000</td>\n",
       "      <td>Beer</td>\n",
       "    </tr>\n",
       "    <tr>\n",
       "      <th>23843</th>\n",
       "      <td>23843</td>\n",
       "      <td>PIT Abita TurboDog</td>\n",
       "      <td>3363</td>\n",
       "      <td>1</td>\n",
       "      <td>15.000000</td>\n",
       "      <td>15.00</td>\n",
       "      <td>2020-01-03 00:00:00.000000</td>\n",
       "      <td>Beer</td>\n",
       "    </tr>\n",
       "    <tr>\n",
       "      <th>23844</th>\n",
       "      <td>23844</td>\n",
       "      <td>SHOT Titos</td>\n",
       "      <td>3655</td>\n",
       "      <td>1</td>\n",
       "      <td>0.000000</td>\n",
       "      <td>0.00</td>\n",
       "      <td>2020-01-03 00:00:00.000000</td>\n",
       "      <td>Vodka</td>\n",
       "    </tr>\n",
       "    <tr>\n",
       "      <th>23845</th>\n",
       "      <td>23845</td>\n",
       "      <td>PINT LKFT Oktoberfest</td>\n",
       "      <td>3697</td>\n",
       "      <td>1</td>\n",
       "      <td>4.500000</td>\n",
       "      <td>4.50</td>\n",
       "      <td>2020-01-03 00:00:00.000000</td>\n",
       "      <td>Beer</td>\n",
       "    </tr>\n",
       "  </tbody>\n",
       "</table>\n",
       "<p>23846 rows × 8 columns</p>\n",
       "</div>"
      ],
      "text/plain": [
       "       index                   item  item_code  quantity  unit_price  \\\n",
       "0          0       PINT Spotted Cow       3140        64    3.937500   \n",
       "1          1         DBL RAIL Vodka       3455        37    4.945946   \n",
       "2          2   BTL Miller High Life       3122        31    3.250000   \n",
       "3          3             PINT Stein       3141        29    3.517241   \n",
       "4          4       SHOT Seagrams VO       3325        26    2.423077   \n",
       "...      ...                    ...        ...       ...         ...   \n",
       "23841  23841   Skyy Watermelon BOMB       3374         1    4.000000   \n",
       "23842  23842   PIT LKFT Hazy Rabbit       3359         1   15.000000   \n",
       "23843  23843     PIT Abita TurboDog       3363         1   15.000000   \n",
       "23844  23844             SHOT Titos       3655         1    0.000000   \n",
       "23845  23845  PINT LKFT Oktoberfest       3697         1    4.500000   \n",
       "\n",
       "       total_sales_amount                        date            Type  \n",
       "0                  252.00  2021-01-08 00:00:00.000000            Beer  \n",
       "1                  183.00  2021-01-08 00:00:00.000000           Vodka  \n",
       "2                  100.75  2021-01-08 00:00:00.000000            Beer  \n",
       "3                  102.00  2021-01-08 00:00:00.000000            Beer  \n",
       "4                   63.00  2021-01-08 00:00:00.000000  Scotch/Whiskey  \n",
       "...                   ...                         ...             ...  \n",
       "23841                4.00  2020-01-03 00:00:00.000000           Vodka  \n",
       "23842               15.00  2020-01-03 00:00:00.000000            Beer  \n",
       "23843               15.00  2020-01-03 00:00:00.000000            Beer  \n",
       "23844                0.00  2020-01-03 00:00:00.000000           Vodka  \n",
       "23845                4.50  2020-01-03 00:00:00.000000            Beer  \n",
       "\n",
       "[23846 rows x 8 columns]"
      ]
     },
     "execution_count": 4,
     "metadata": {},
     "output_type": "execute_result"
    }
   ],
   "source": [
    "#Read Sales dataset from database\n",
    "query = 'Select * from sales'\n",
    "sales_df = pd.read_sql(query, con=engine)\n",
    "sales_df"
   ]
  },
  {
   "cell_type": "code",
   "execution_count": 5,
   "id": "e5c5da95",
   "metadata": {},
   "outputs": [
    {
     "data": {
      "text/html": [
       "<div>\n",
       "<style scoped>\n",
       "    .dataframe tbody tr th:only-of-type {\n",
       "        vertical-align: middle;\n",
       "    }\n",
       "\n",
       "    .dataframe tbody tr th {\n",
       "        vertical-align: top;\n",
       "    }\n",
       "\n",
       "    .dataframe thead th {\n",
       "        text-align: right;\n",
       "    }\n",
       "</style>\n",
       "<table border=\"1\" class=\"dataframe\">\n",
       "  <thead>\n",
       "    <tr style=\"text-align: right;\">\n",
       "      <th></th>\n",
       "      <th>index</th>\n",
       "      <th>item_code</th>\n",
       "      <th>quantity</th>\n",
       "      <th>unit_price</th>\n",
       "      <th>total_sales_amount</th>\n",
       "    </tr>\n",
       "  </thead>\n",
       "  <tbody>\n",
       "    <tr>\n",
       "      <th>count</th>\n",
       "      <td>23846.000000</td>\n",
       "      <td>23846.000000</td>\n",
       "      <td>23846.000000</td>\n",
       "      <td>23846.000000</td>\n",
       "      <td>23846.000000</td>\n",
       "    </tr>\n",
       "    <tr>\n",
       "      <th>mean</th>\n",
       "      <td>11922.500000</td>\n",
       "      <td>3221.302944</td>\n",
       "      <td>11.079510</td>\n",
       "      <td>5.147705</td>\n",
       "      <td>55.500769</td>\n",
       "    </tr>\n",
       "    <tr>\n",
       "      <th>std</th>\n",
       "      <td>6883.891596</td>\n",
       "      <td>278.452809</td>\n",
       "      <td>17.736896</td>\n",
       "      <td>4.944210</td>\n",
       "      <td>101.401739</td>\n",
       "    </tr>\n",
       "    <tr>\n",
       "      <th>min</th>\n",
       "      <td>0.000000</td>\n",
       "      <td>2696.000000</td>\n",
       "      <td>1.000000</td>\n",
       "      <td>0.000000</td>\n",
       "      <td>0.000000</td>\n",
       "    </tr>\n",
       "    <tr>\n",
       "      <th>25%</th>\n",
       "      <td>5961.250000</td>\n",
       "      <td>3113.000000</td>\n",
       "      <td>2.000000</td>\n",
       "      <td>3.000000</td>\n",
       "      <td>7.000000</td>\n",
       "    </tr>\n",
       "    <tr>\n",
       "      <th>50%</th>\n",
       "      <td>11922.500000</td>\n",
       "      <td>3234.000000</td>\n",
       "      <td>5.000000</td>\n",
       "      <td>4.304952</td>\n",
       "      <td>20.500000</td>\n",
       "    </tr>\n",
       "    <tr>\n",
       "      <th>75%</th>\n",
       "      <td>17883.750000</td>\n",
       "      <td>3452.000000</td>\n",
       "      <td>13.000000</td>\n",
       "      <td>7.000000</td>\n",
       "      <td>65.000000</td>\n",
       "    </tr>\n",
       "    <tr>\n",
       "      <th>max</th>\n",
       "      <td>23845.000000</td>\n",
       "      <td>3717.000000</td>\n",
       "      <td>293.000000</td>\n",
       "      <td>206.000000</td>\n",
       "      <td>5974.000000</td>\n",
       "    </tr>\n",
       "  </tbody>\n",
       "</table>\n",
       "</div>"
      ],
      "text/plain": [
       "              index     item_code      quantity    unit_price  \\\n",
       "count  23846.000000  23846.000000  23846.000000  23846.000000   \n",
       "mean   11922.500000   3221.302944     11.079510      5.147705   \n",
       "std     6883.891596    278.452809     17.736896      4.944210   \n",
       "min        0.000000   2696.000000      1.000000      0.000000   \n",
       "25%     5961.250000   3113.000000      2.000000      3.000000   \n",
       "50%    11922.500000   3234.000000      5.000000      4.304952   \n",
       "75%    17883.750000   3452.000000     13.000000      7.000000   \n",
       "max    23845.000000   3717.000000    293.000000    206.000000   \n",
       "\n",
       "       total_sales_amount  \n",
       "count        23846.000000  \n",
       "mean            55.500769  \n",
       "std            101.401739  \n",
       "min              0.000000  \n",
       "25%              7.000000  \n",
       "50%             20.500000  \n",
       "75%             65.000000  \n",
       "max           5974.000000  "
      ]
     },
     "execution_count": 5,
     "metadata": {},
     "output_type": "execute_result"
    }
   ],
   "source": [
    "sales_df.describe()"
   ]
  },
  {
   "cell_type": "code",
   "execution_count": 16,
   "id": "b287cbdd",
   "metadata": {},
   "outputs": [],
   "source": [
    "X = np.array(sales_df['quantity']).reshape(-1, 1)\n",
    "y = np.array(sales_df['total_sales_amount']).reshape(-1, 1)"
   ]
  },
  {
   "cell_type": "code",
   "execution_count": 17,
   "id": "f78831ce",
   "metadata": {},
   "outputs": [],
   "source": [
    "from sklearn.model_selection import train_test_split\n",
    "X_train, X_test, y_train, y_test = train_test_split(X, y, test_size=0.4, random_state=0)"
   ]
  },
  {
   "cell_type": "code",
   "execution_count": 18,
   "id": "56bbc804",
   "metadata": {},
   "outputs": [
    {
     "data": {
      "text/plain": [
       "LinearRegression()"
      ]
     },
     "execution_count": 18,
     "metadata": {},
     "output_type": "execute_result"
    }
   ],
   "source": [
    "from sklearn.linear_model import LinearRegression\n",
    "model = LinearRegression()\n",
    "model.fit(X_train, y_train)"
   ]
  },
  {
   "cell_type": "code",
   "execution_count": 20,
   "id": "3d448513",
   "metadata": {},
   "outputs": [
    {
     "name": "stdout",
     "output_type": "stream",
     "text": [
      "[[ 99.83184979]\n",
      " [281.82597691]\n",
      " [ 79.15069898]\n",
      " ...\n",
      " [ 91.55938947]\n",
      " [132.92169108]\n",
      " [752.90123002]]\n"
     ]
    }
   ],
   "source": [
    "y_pred = model.predict(y_train)\n",
    "print(y_pred)"
   ]
  },
  {
   "cell_type": "code",
   "execution_count": 21,
   "id": "32ffd140",
   "metadata": {},
   "outputs": [
    {
     "data": {
      "text/plain": [
       "0.408936503592238"
      ]
     },
     "execution_count": 21,
     "metadata": {},
     "output_type": "execute_result"
    }
   ],
   "source": [
    "model.score(X_test, y_test)"
   ]
  },
  {
   "cell_type": "code",
   "execution_count": 22,
   "id": "50b8cd35",
   "metadata": {},
   "outputs": [
    {
     "data": {
      "text/plain": [
       "0.6462815451040367"
      ]
     },
     "execution_count": 22,
     "metadata": {},
     "output_type": "execute_result"
    }
   ],
   "source": [
    "model.score(X_train, y_train)"
   ]
  },
  {
   "cell_type": "code",
   "execution_count": 23,
   "id": "ffc262e4",
   "metadata": {},
   "outputs": [
    {
     "data": {
      "text/plain": [
       "array([[4.13623016]])"
      ]
     },
     "execution_count": 23,
     "metadata": {},
     "output_type": "execute_result"
    }
   ],
   "source": [
    "model.coef_"
   ]
  },
  {
   "cell_type": "code",
   "execution_count": 24,
   "id": "979053c5",
   "metadata": {},
   "outputs": [
    {
     "data": {
      "text/plain": [
       "array([8.83478623])"
      ]
     },
     "execution_count": 24,
     "metadata": {},
     "output_type": "execute_result"
    }
   ],
   "source": [
    "model.intercept_"
   ]
  },
  {
   "cell_type": "code",
   "execution_count": 25,
   "id": "2da7c88b",
   "metadata": {},
   "outputs": [
    {
     "data": {
      "image/png": "[encoded data removed]",
      "text/plain": [
       "<Figure size 432x288 with 1 Axes>"
      ]
     },
     "metadata": {},
     "output_type": "display_data"
    }
   ],
   "source": [
    "plt.scatter(X_train, y_train)\n",
    "plt.plot(X_train, 8.83 + 04.13*X_train, 'r')\n",
    "plt.show()"
   ]
  },
  {
   "cell_type": "code",
   "execution_count": 27,
   "id": "52055ef9",
   "metadata": {},
   "outputs": [
    {
     "data": {
      "image/png": "[encoded data removed]",
      "text/plain": [
       "<Figure size 432x288 with 1 Axes>"
      ]
     },
     "metadata": {},
     "output_type": "display_data"
    }
   ],
   "source": [
    "plt.scatter(X_test, y_test)\n",
    "plt.plot(X_test, 8.83 + 04.13*X_test, 'r')\n",
    "plt.show()"
   ]
  },
  {
   "cell_type": "code",
   "execution_count": null,
   "id": "5e671e5a",
   "metadata": {},
   "outputs": [],
   "source": []
  }
 ],
 "metadata": {
  "kernelspec": {
   "display_name": "Python 3",
   "language": "python",
   "name": "python3"
  },
  "language_info": {
   "codemirror_mode": {
    "name": "ipython",
    "version": 3
   },
   "file_extension": ".py",
   "mimetype": "text/x-python",
   "name": "python",
   "nbconvert_exporter": "python",
   "pygments_lexer": "ipython3",
   "version": "3.7.10"
  },
  "varInspector": {
   "cols": {
    "lenName": 16,
    "lenType": 16,
    "lenVar": 40
   },
   "kernels_config": {
    "python": {
     "delete_cmd_postfix": "",
     "delete_cmd_prefix": "del ",
     "library": "var_list.py",
     "varRefreshCmd": "print(var_dic_list())"
    },
    "r": {
     "delete_cmd_postfix": ") ",
     "delete_cmd_prefix": "rm(",
     "library": "var_list.r",
     "varRefreshCmd": "cat(var_dic_list()) "
    }
   },
   "types_to_exclude": [
    "module",
    "function",
    "builtin_function_or_method",
    "instance",
    "_Feature"
   ],
   "window_display": false
  }
 },
 "nbformat": 4,
 "nbformat_minor": 5
}
