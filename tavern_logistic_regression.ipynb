{
 "cells": [
  {
   "cell_type": "code",
   "execution_count": 47,
   "source": [
    "# Import dependecies\r\n",
    "\r\n",
    "import matplotlib.pyplot as plt\r\n",
    "import pandas as pd\r\n",
    "import numpy as np\r\n",
    "from sklearn.model_selection import train_test_split\r\n",
    "from sklearn.linear_model import LogisticRegression"
   ],
   "outputs": [],
   "metadata": {}
  },
  {
   "cell_type": "code",
   "execution_count": 3,
   "source": [
    "df = pd.read_excel('Resources/tracks_tavern_sales_data.xlsx')\r\n",
    "df.head()"
   ],
   "outputs": [
    {
     "output_type": "execute_result",
     "data": {
      "text/html": [
       "<div>\n",
       "<style scoped>\n",
       "    .dataframe tbody tr th:only-of-type {\n",
       "        vertical-align: middle;\n",
       "    }\n",
       "\n",
       "    .dataframe tbody tr th {\n",
       "        vertical-align: top;\n",
       "    }\n",
       "\n",
       "    .dataframe thead th {\n",
       "        text-align: right;\n",
       "    }\n",
       "</style>\n",
       "<table border=\"1\" class=\"dataframe\">\n",
       "  <thead>\n",
       "    <tr style=\"text-align: right;\">\n",
       "      <th></th>\n",
       "      <th>item</th>\n",
       "      <th>item_code</th>\n",
       "      <th>quantity</th>\n",
       "      <th>unit_price</th>\n",
       "      <th>total_sales_amount</th>\n",
       "      <th>date</th>\n",
       "      <th>type</th>\n",
       "    </tr>\n",
       "  </thead>\n",
       "  <tbody>\n",
       "    <tr>\n",
       "      <th>0</th>\n",
       "      <td>pint spotted cow</td>\n",
       "      <td>3140</td>\n",
       "      <td>64.0</td>\n",
       "      <td>3.937500</td>\n",
       "      <td>252.00</td>\n",
       "      <td>2021-01-08</td>\n",
       "      <td>beer</td>\n",
       "    </tr>\n",
       "    <tr>\n",
       "      <th>1</th>\n",
       "      <td>dbl rail vodka</td>\n",
       "      <td>3455</td>\n",
       "      <td>37.0</td>\n",
       "      <td>4.945946</td>\n",
       "      <td>183.00</td>\n",
       "      <td>2021-01-08</td>\n",
       "      <td>vodka</td>\n",
       "    </tr>\n",
       "    <tr>\n",
       "      <th>2</th>\n",
       "      <td>bottle miller high life</td>\n",
       "      <td>3122</td>\n",
       "      <td>31.0</td>\n",
       "      <td>3.250000</td>\n",
       "      <td>100.75</td>\n",
       "      <td>2021-01-08</td>\n",
       "      <td>beer</td>\n",
       "    </tr>\n",
       "    <tr>\n",
       "      <th>3</th>\n",
       "      <td>pint stein</td>\n",
       "      <td>3141</td>\n",
       "      <td>29.0</td>\n",
       "      <td>3.517241</td>\n",
       "      <td>102.00</td>\n",
       "      <td>2021-01-08</td>\n",
       "      <td>beer</td>\n",
       "    </tr>\n",
       "    <tr>\n",
       "      <th>4</th>\n",
       "      <td>shot seagrams vo</td>\n",
       "      <td>3325</td>\n",
       "      <td>26.0</td>\n",
       "      <td>2.423077</td>\n",
       "      <td>63.00</td>\n",
       "      <td>2021-01-08</td>\n",
       "      <td>scotch/whiskey</td>\n",
       "    </tr>\n",
       "  </tbody>\n",
       "</table>\n",
       "</div>"
      ],
      "text/plain": [
       "                      item  item_code  quantity  unit_price  \\\n",
       "0         pint spotted cow       3140      64.0    3.937500   \n",
       "1           dbl rail vodka       3455      37.0    4.945946   \n",
       "2  bottle miller high life       3122      31.0    3.250000   \n",
       "3               pint stein       3141      29.0    3.517241   \n",
       "4         shot seagrams vo       3325      26.0    2.423077   \n",
       "\n",
       "   total_sales_amount        date            type  \n",
       "0              252.00  2021-01-08            beer  \n",
       "1              183.00  2021-01-08           vodka  \n",
       "2              100.75  2021-01-08            beer  \n",
       "3              102.00  2021-01-08            beer  \n",
       "4               63.00  2021-01-08  scotch/whiskey  "
      ]
     },
     "metadata": {},
     "execution_count": 3
    }
   ],
   "metadata": {}
  },
  {
   "cell_type": "code",
   "execution_count": 31,
   "source": [
    "df.dtypes"
   ],
   "outputs": [
    {
     "output_type": "execute_result",
     "data": {
      "text/plain": [
       "item                   object\n",
       "item_code               int64\n",
       "quantity              float64\n",
       "unit_price            float64\n",
       "total_sales_amount    float64\n",
       "date                   object\n",
       "type                   object\n",
       "dtype: object"
      ]
     },
     "metadata": {},
     "execution_count": 31
    }
   ],
   "metadata": {}
  },
  {
   "cell_type": "code",
   "execution_count": 23,
   "source": [
    "burger_df = df.loc[df['type'] == 'burger']\r\n",
    "burger_df.head()"
   ],
   "outputs": [
    {
     "output_type": "execute_result",
     "data": {
      "text/html": [
       "<div>\n",
       "<style scoped>\n",
       "    .dataframe tbody tr th:only-of-type {\n",
       "        vertical-align: middle;\n",
       "    }\n",
       "\n",
       "    .dataframe tbody tr th {\n",
       "        vertical-align: top;\n",
       "    }\n",
       "\n",
       "    .dataframe thead th {\n",
       "        text-align: right;\n",
       "    }\n",
       "</style>\n",
       "<table border=\"1\" class=\"dataframe\">\n",
       "  <thead>\n",
       "    <tr style=\"text-align: right;\">\n",
       "      <th></th>\n",
       "      <th>item</th>\n",
       "      <th>item_code</th>\n",
       "      <th>quantity</th>\n",
       "      <th>unit_price</th>\n",
       "      <th>total_sales_amount</th>\n",
       "      <th>date</th>\n",
       "      <th>type</th>\n",
       "    </tr>\n",
       "  </thead>\n",
       "  <tbody>\n",
       "    <tr>\n",
       "      <th>14</th>\n",
       "      <td>riverwest burger</td>\n",
       "      <td>2714</td>\n",
       "      <td>16.0</td>\n",
       "      <td>11.093750</td>\n",
       "      <td>177.50</td>\n",
       "      <td>2021-01-08</td>\n",
       "      <td>burger</td>\n",
       "    </tr>\n",
       "    <tr>\n",
       "      <th>18</th>\n",
       "      <td>all american burger</td>\n",
       "      <td>2840</td>\n",
       "      <td>13.0</td>\n",
       "      <td>7.403846</td>\n",
       "      <td>96.25</td>\n",
       "      <td>2021-01-08</td>\n",
       "      <td>burger</td>\n",
       "    </tr>\n",
       "    <tr>\n",
       "      <th>24</th>\n",
       "      <td>cheese burger</td>\n",
       "      <td>2841</td>\n",
       "      <td>11.0</td>\n",
       "      <td>8.136364</td>\n",
       "      <td>89.50</td>\n",
       "      <td>2021-01-08</td>\n",
       "      <td>burger</td>\n",
       "    </tr>\n",
       "    <tr>\n",
       "      <th>41</th>\n",
       "      <td>tracks big boy</td>\n",
       "      <td>3704</td>\n",
       "      <td>7.0</td>\n",
       "      <td>10.142857</td>\n",
       "      <td>71.00</td>\n",
       "      <td>2021-01-08</td>\n",
       "      <td>burger</td>\n",
       "    </tr>\n",
       "    <tr>\n",
       "      <th>123</th>\n",
       "      <td>thurs burger</td>\n",
       "      <td>2886</td>\n",
       "      <td>1.0</td>\n",
       "      <td>3.000000</td>\n",
       "      <td>3.00</td>\n",
       "      <td>2021-01-08</td>\n",
       "      <td>burger</td>\n",
       "    </tr>\n",
       "  </tbody>\n",
       "</table>\n",
       "</div>"
      ],
      "text/plain": [
       "                    item  item_code  quantity  unit_price  total_sales_amount  \\\n",
       "14      riverwest burger       2714      16.0   11.093750              177.50   \n",
       "18   all american burger       2840      13.0    7.403846               96.25   \n",
       "24         cheese burger       2841      11.0    8.136364               89.50   \n",
       "41        tracks big boy       3704       7.0   10.142857               71.00   \n",
       "123         thurs burger       2886       1.0    3.000000                3.00   \n",
       "\n",
       "           date    type  \n",
       "14   2021-01-08  burger  \n",
       "18   2021-01-08  burger  \n",
       "24   2021-01-08  burger  \n",
       "41   2021-01-08  burger  \n",
       "123  2021-01-08  burger  "
      ]
     },
     "metadata": {},
     "execution_count": 23
    }
   ],
   "metadata": {}
  },
  {
   "cell_type": "code",
   "execution_count": 7,
   "source": [
    "burger_df.dtypes"
   ],
   "outputs": [
    {
     "output_type": "execute_result",
     "data": {
      "text/plain": [
       "item                   object\n",
       "item_code               int64\n",
       "quantity              float64\n",
       "unit_price            float64\n",
       "total_sales_amount    float64\n",
       "date                   object\n",
       "type                   object\n",
       "dtype: object"
      ]
     },
     "metadata": {},
     "execution_count": 7
    }
   ],
   "metadata": {}
  },
  {
   "cell_type": "code",
   "execution_count": 8,
   "source": [
    "burger_df['date'] = pd.to_datetime(burger_df['date'])\r\n",
    "burger_df.dtypes"
   ],
   "outputs": [
    {
     "output_type": "stream",
     "name": "stderr",
     "text": [
      "C:\\Users\\George\\anaconda3\\envs\\mlenv\\lib\\site-packages\\ipykernel_launcher.py:1: SettingWithCopyWarning: \n",
      "A value is trying to be set on a copy of a slice from a DataFrame.\n",
      "Try using .loc[row_indexer,col_indexer] = value instead\n",
      "\n",
      "See the caveats in the documentation: https://pandas.pydata.org/pandas-docs/stable/user_guide/indexing.html#returning-a-view-versus-a-copy\n",
      "  \"\"\"Entry point for launching an IPython kernel.\n"
     ]
    },
    {
     "output_type": "execute_result",
     "data": {
      "text/plain": [
       "item                          object\n",
       "item_code                      int64\n",
       "quantity                     float64\n",
       "unit_price                   float64\n",
       "total_sales_amount           float64\n",
       "date                  datetime64[ns]\n",
       "type                          object\n",
       "dtype: object"
      ]
     },
     "metadata": {},
     "execution_count": 8
    }
   ],
   "metadata": {}
  },
  {
   "cell_type": "code",
   "execution_count": 12,
   "source": [
    "burger_weekly_sales = burger_df.groupby(['date']).sum(['quantity', 'total_sales_amount'])\r\n",
    "burger_weekly_sales.drop(['item_code', 'unit_price'], inplace=True, axis=1)\r\n",
    "burger_weekly_sales.head()"
   ],
   "outputs": [
    {
     "output_type": "execute_result",
     "data": {
      "text/html": [
       "<div>\n",
       "<style scoped>\n",
       "    .dataframe tbody tr th:only-of-type {\n",
       "        vertical-align: middle;\n",
       "    }\n",
       "\n",
       "    .dataframe tbody tr th {\n",
       "        vertical-align: top;\n",
       "    }\n",
       "\n",
       "    .dataframe thead th {\n",
       "        text-align: right;\n",
       "    }\n",
       "</style>\n",
       "<table border=\"1\" class=\"dataframe\">\n",
       "  <thead>\n",
       "    <tr style=\"text-align: right;\">\n",
       "      <th></th>\n",
       "      <th>quantity</th>\n",
       "      <th>total_sales_amount</th>\n",
       "    </tr>\n",
       "    <tr>\n",
       "      <th>date</th>\n",
       "      <th></th>\n",
       "      <th></th>\n",
       "    </tr>\n",
       "  </thead>\n",
       "  <tbody>\n",
       "    <tr>\n",
       "      <th>2019-02-15</th>\n",
       "      <td>40.0</td>\n",
       "      <td>307.00</td>\n",
       "    </tr>\n",
       "    <tr>\n",
       "      <th>2019-02-22</th>\n",
       "      <td>87.0</td>\n",
       "      <td>697.25</td>\n",
       "    </tr>\n",
       "    <tr>\n",
       "      <th>2019-03-01</th>\n",
       "      <td>82.0</td>\n",
       "      <td>599.25</td>\n",
       "    </tr>\n",
       "    <tr>\n",
       "      <th>2019-03-08</th>\n",
       "      <td>92.0</td>\n",
       "      <td>742.00</td>\n",
       "    </tr>\n",
       "    <tr>\n",
       "      <th>2019-03-15</th>\n",
       "      <td>77.0</td>\n",
       "      <td>604.75</td>\n",
       "    </tr>\n",
       "  </tbody>\n",
       "</table>\n",
       "</div>"
      ],
      "text/plain": [
       "            quantity  total_sales_amount\n",
       "date                                    \n",
       "2019-02-15      40.0              307.00\n",
       "2019-02-22      87.0              697.25\n",
       "2019-03-01      82.0              599.25\n",
       "2019-03-08      92.0              742.00\n",
       "2019-03-15      77.0              604.75"
      ]
     },
     "metadata": {},
     "execution_count": 12
    }
   ],
   "metadata": {}
  },
  {
   "cell_type": "code",
   "execution_count": 13,
   "source": [
    "burger_weekly_sales.rename(columns={'quantity': 'burger_qty', 'total_sales_amount':'burger_sales'}, inplace=True)"
   ],
   "outputs": [],
   "metadata": {}
  },
  {
   "cell_type": "code",
   "execution_count": 24,
   "source": [
    "burger_weekly_sales.burger_sales.sum()"
   ],
   "outputs": [
    {
     "output_type": "execute_result",
     "data": {
      "text/plain": [
       "77861.82999999999"
      ]
     },
     "metadata": {},
     "execution_count": 24
    }
   ],
   "metadata": {}
  },
  {
   "cell_type": "code",
   "execution_count": 18,
   "source": [
    "df.type.value_counts()"
   ],
   "outputs": [
    {
     "output_type": "execute_result",
     "data": {
      "text/plain": [
       "beer               3926\n",
       "vodka              2790\n",
       "scotch/whiskey     2034\n",
       "nonalcoholic       1848\n",
       "side               1812\n",
       "appetizers         1061\n",
       "special            1042\n",
       "fish                997\n",
       "tequila             865\n",
       "liqueur             845\n",
       "sandwich            776\n",
       "cocktail            749\n",
       "burger              734\n",
       "rum                 691\n",
       "bourbon             546\n",
       "gin                 527\n",
       "hard seltzer        472\n",
       "brandy              440\n",
       "breakfast           335\n",
       "salad               331\n",
       "wine                246\n",
       "hard cider          241\n",
       "happy hour          166\n",
       "other               162\n",
       "entree               69\n",
       "specialty shots      63\n",
       "Name: type, dtype: int64"
      ]
     },
     "metadata": {},
     "execution_count": 18
    }
   ],
   "metadata": {}
  },
  {
   "cell_type": "code",
   "execution_count": null,
   "source": [],
   "outputs": [],
   "metadata": {}
  },
  {
   "cell_type": "code",
   "execution_count": 25,
   "source": [
    "# Food item rows entree, other, salad, breakfast, burger, sandwich, fish, side\r\n",
    "drop_rows = [ 'entree', 'other', 'salad', 'breakfast', 'burger', 'sandwich', 'fish', 'side']\r\n",
    "liquor_sales = df.query('type not in @drop_rows')\r\n",
    "liquor_sales.head()"
   ],
   "outputs": [
    {
     "output_type": "execute_result",
     "data": {
      "text/html": [
       "<div>\n",
       "<style scoped>\n",
       "    .dataframe tbody tr th:only-of-type {\n",
       "        vertical-align: middle;\n",
       "    }\n",
       "\n",
       "    .dataframe tbody tr th {\n",
       "        vertical-align: top;\n",
       "    }\n",
       "\n",
       "    .dataframe thead th {\n",
       "        text-align: right;\n",
       "    }\n",
       "</style>\n",
       "<table border=\"1\" class=\"dataframe\">\n",
       "  <thead>\n",
       "    <tr style=\"text-align: right;\">\n",
       "      <th></th>\n",
       "      <th>item</th>\n",
       "      <th>item_code</th>\n",
       "      <th>quantity</th>\n",
       "      <th>unit_price</th>\n",
       "      <th>total_sales_amount</th>\n",
       "      <th>date</th>\n",
       "      <th>type</th>\n",
       "    </tr>\n",
       "  </thead>\n",
       "  <tbody>\n",
       "    <tr>\n",
       "      <th>0</th>\n",
       "      <td>pint spotted cow</td>\n",
       "      <td>3140</td>\n",
       "      <td>64.0</td>\n",
       "      <td>3.937500</td>\n",
       "      <td>252.00</td>\n",
       "      <td>2021-01-08</td>\n",
       "      <td>beer</td>\n",
       "    </tr>\n",
       "    <tr>\n",
       "      <th>1</th>\n",
       "      <td>dbl rail vodka</td>\n",
       "      <td>3455</td>\n",
       "      <td>37.0</td>\n",
       "      <td>4.945946</td>\n",
       "      <td>183.00</td>\n",
       "      <td>2021-01-08</td>\n",
       "      <td>vodka</td>\n",
       "    </tr>\n",
       "    <tr>\n",
       "      <th>2</th>\n",
       "      <td>bottle miller high life</td>\n",
       "      <td>3122</td>\n",
       "      <td>31.0</td>\n",
       "      <td>3.250000</td>\n",
       "      <td>100.75</td>\n",
       "      <td>2021-01-08</td>\n",
       "      <td>beer</td>\n",
       "    </tr>\n",
       "    <tr>\n",
       "      <th>3</th>\n",
       "      <td>pint stein</td>\n",
       "      <td>3141</td>\n",
       "      <td>29.0</td>\n",
       "      <td>3.517241</td>\n",
       "      <td>102.00</td>\n",
       "      <td>2021-01-08</td>\n",
       "      <td>beer</td>\n",
       "    </tr>\n",
       "    <tr>\n",
       "      <th>4</th>\n",
       "      <td>shot seagrams vo</td>\n",
       "      <td>3325</td>\n",
       "      <td>26.0</td>\n",
       "      <td>2.423077</td>\n",
       "      <td>63.00</td>\n",
       "      <td>2021-01-08</td>\n",
       "      <td>scotch/whiskey</td>\n",
       "    </tr>\n",
       "  </tbody>\n",
       "</table>\n",
       "</div>"
      ],
      "text/plain": [
       "                      item  item_code  quantity  unit_price  \\\n",
       "0         pint spotted cow       3140      64.0    3.937500   \n",
       "1           dbl rail vodka       3455      37.0    4.945946   \n",
       "2  bottle miller high life       3122      31.0    3.250000   \n",
       "3               pint stein       3141      29.0    3.517241   \n",
       "4         shot seagrams vo       3325      26.0    2.423077   \n",
       "\n",
       "   total_sales_amount        date            type  \n",
       "0              252.00  2021-01-08            beer  \n",
       "1              183.00  2021-01-08           vodka  \n",
       "2              100.75  2021-01-08            beer  \n",
       "3              102.00  2021-01-08            beer  \n",
       "4               63.00  2021-01-08  scotch/whiskey  "
      ]
     },
     "metadata": {},
     "execution_count": 25
    }
   ],
   "metadata": {}
  },
  {
   "cell_type": "code",
   "execution_count": 27,
   "source": [
    "liquor_sales.type.value_counts()"
   ],
   "outputs": [
    {
     "output_type": "execute_result",
     "data": {
      "text/plain": [
       "beer               3926\n",
       "vodka              2790\n",
       "scotch/whiskey     2034\n",
       "nonalcoholic       1848\n",
       "appetizers         1061\n",
       "special            1042\n",
       "tequila             865\n",
       "liqueur             845\n",
       "cocktail            749\n",
       "rum                 691\n",
       "bourbon             546\n",
       "gin                 527\n",
       "hard seltzer        472\n",
       "brandy              440\n",
       "wine                246\n",
       "hard cider          241\n",
       "happy hour          166\n",
       "specialty shots      63\n",
       "Name: type, dtype: int64"
      ]
     },
     "metadata": {},
     "execution_count": 27
    }
   ],
   "metadata": {}
  },
  {
   "cell_type": "code",
   "execution_count": 32,
   "source": [
    "liquor_sales['date'] = pd.to_datetime(liquor_sales['date'])\r\n",
    "liquor_sales.dtypes"
   ],
   "outputs": [
    {
     "output_type": "stream",
     "name": "stderr",
     "text": [
      "C:\\Users\\George\\anaconda3\\envs\\mlenv\\lib\\site-packages\\ipykernel_launcher.py:1: SettingWithCopyWarning: \n",
      "A value is trying to be set on a copy of a slice from a DataFrame.\n",
      "Try using .loc[row_indexer,col_indexer] = value instead\n",
      "\n",
      "See the caveats in the documentation: https://pandas.pydata.org/pandas-docs/stable/user_guide/indexing.html#returning-a-view-versus-a-copy\n",
      "  \"\"\"Entry point for launching an IPython kernel.\n"
     ]
    },
    {
     "output_type": "execute_result",
     "data": {
      "text/plain": [
       "item                          object\n",
       "item_code                      int64\n",
       "quantity                     float64\n",
       "unit_price                   float64\n",
       "total_sales_amount           float64\n",
       "date                  datetime64[ns]\n",
       "type                          object\n",
       "dtype: object"
      ]
     },
     "metadata": {},
     "execution_count": 32
    }
   ],
   "metadata": {}
  },
  {
   "cell_type": "code",
   "execution_count": 33,
   "source": [
    "liquor_weekly_sales = liquor_sales.groupby(['date']).sum(['quantity', 'total_sales_amount'])\r\n",
    "liquor_weekly_sales.drop(['item_code', 'unit_price'], inplace=True, axis=1)\r\n",
    "liquor_weekly_sales.head()"
   ],
   "outputs": [
    {
     "output_type": "execute_result",
     "data": {
      "text/html": [
       "<div>\n",
       "<style scoped>\n",
       "    .dataframe tbody tr th:only-of-type {\n",
       "        vertical-align: middle;\n",
       "    }\n",
       "\n",
       "    .dataframe tbody tr th {\n",
       "        vertical-align: top;\n",
       "    }\n",
       "\n",
       "    .dataframe thead th {\n",
       "        text-align: right;\n",
       "    }\n",
       "</style>\n",
       "<table border=\"1\" class=\"dataframe\">\n",
       "  <thead>\n",
       "    <tr style=\"text-align: right;\">\n",
       "      <th></th>\n",
       "      <th>quantity</th>\n",
       "      <th>total_sales_amount</th>\n",
       "    </tr>\n",
       "    <tr>\n",
       "      <th>date</th>\n",
       "      <th></th>\n",
       "      <th></th>\n",
       "    </tr>\n",
       "  </thead>\n",
       "  <tbody>\n",
       "    <tr>\n",
       "      <th>2019-02-15</th>\n",
       "      <td>650.0</td>\n",
       "      <td>2733.25</td>\n",
       "    </tr>\n",
       "    <tr>\n",
       "      <th>2019-02-22</th>\n",
       "      <td>1533.0</td>\n",
       "      <td>7104.10</td>\n",
       "    </tr>\n",
       "    <tr>\n",
       "      <th>2019-03-01</th>\n",
       "      <td>1744.0</td>\n",
       "      <td>7611.00</td>\n",
       "    </tr>\n",
       "    <tr>\n",
       "      <th>2019-03-08</th>\n",
       "      <td>1765.0</td>\n",
       "      <td>7906.75</td>\n",
       "    </tr>\n",
       "    <tr>\n",
       "      <th>2019-03-15</th>\n",
       "      <td>1819.0</td>\n",
       "      <td>8122.50</td>\n",
       "    </tr>\n",
       "  </tbody>\n",
       "</table>\n",
       "</div>"
      ],
      "text/plain": [
       "            quantity  total_sales_amount\n",
       "date                                    \n",
       "2019-02-15     650.0             2733.25\n",
       "2019-02-22    1533.0             7104.10\n",
       "2019-03-01    1744.0             7611.00\n",
       "2019-03-08    1765.0             7906.75\n",
       "2019-03-15    1819.0             8122.50"
      ]
     },
     "metadata": {},
     "execution_count": 33
    }
   ],
   "metadata": {}
  },
  {
   "cell_type": "code",
   "execution_count": 34,
   "source": [
    "liquor_weekly_sales.rename(columns={'quantity': 'liquor_qty', 'total_sales_amount':'liquor_sales'}, inplace=True)\r\n",
    "liquor_weekly_sales.head()"
   ],
   "outputs": [
    {
     "output_type": "execute_result",
     "data": {
      "text/html": [
       "<div>\n",
       "<style scoped>\n",
       "    .dataframe tbody tr th:only-of-type {\n",
       "        vertical-align: middle;\n",
       "    }\n",
       "\n",
       "    .dataframe tbody tr th {\n",
       "        vertical-align: top;\n",
       "    }\n",
       "\n",
       "    .dataframe thead th {\n",
       "        text-align: right;\n",
       "    }\n",
       "</style>\n",
       "<table border=\"1\" class=\"dataframe\">\n",
       "  <thead>\n",
       "    <tr style=\"text-align: right;\">\n",
       "      <th></th>\n",
       "      <th>liquor_qty</th>\n",
       "      <th>liquor_sales</th>\n",
       "    </tr>\n",
       "    <tr>\n",
       "      <th>date</th>\n",
       "      <th></th>\n",
       "      <th></th>\n",
       "    </tr>\n",
       "  </thead>\n",
       "  <tbody>\n",
       "    <tr>\n",
       "      <th>2019-02-15</th>\n",
       "      <td>650.0</td>\n",
       "      <td>2733.25</td>\n",
       "    </tr>\n",
       "    <tr>\n",
       "      <th>2019-02-22</th>\n",
       "      <td>1533.0</td>\n",
       "      <td>7104.10</td>\n",
       "    </tr>\n",
       "    <tr>\n",
       "      <th>2019-03-01</th>\n",
       "      <td>1744.0</td>\n",
       "      <td>7611.00</td>\n",
       "    </tr>\n",
       "    <tr>\n",
       "      <th>2019-03-08</th>\n",
       "      <td>1765.0</td>\n",
       "      <td>7906.75</td>\n",
       "    </tr>\n",
       "    <tr>\n",
       "      <th>2019-03-15</th>\n",
       "      <td>1819.0</td>\n",
       "      <td>8122.50</td>\n",
       "    </tr>\n",
       "  </tbody>\n",
       "</table>\n",
       "</div>"
      ],
      "text/plain": [
       "            liquor_qty  liquor_sales\n",
       "date                                \n",
       "2019-02-15       650.0       2733.25\n",
       "2019-02-22      1533.0       7104.10\n",
       "2019-03-01      1744.0       7611.00\n",
       "2019-03-08      1765.0       7906.75\n",
       "2019-03-15      1819.0       8122.50"
      ]
     },
     "metadata": {},
     "execution_count": 34
    }
   ],
   "metadata": {}
  },
  {
   "cell_type": "code",
   "execution_count": 37,
   "source": [
    "# Join liquor weekly sales and burger weekly sales\r\n",
    "\r\n",
    "logistic_df = liquor_weekly_sales.join(burger_weekly_sales, how='left')\r\n",
    "logistic_df.head()"
   ],
   "outputs": [
    {
     "output_type": "execute_result",
     "data": {
      "text/html": [
       "<div>\n",
       "<style scoped>\n",
       "    .dataframe tbody tr th:only-of-type {\n",
       "        vertical-align: middle;\n",
       "    }\n",
       "\n",
       "    .dataframe tbody tr th {\n",
       "        vertical-align: top;\n",
       "    }\n",
       "\n",
       "    .dataframe thead th {\n",
       "        text-align: right;\n",
       "    }\n",
       "</style>\n",
       "<table border=\"1\" class=\"dataframe\">\n",
       "  <thead>\n",
       "    <tr style=\"text-align: right;\">\n",
       "      <th></th>\n",
       "      <th>liquor_qty</th>\n",
       "      <th>liquor_sales</th>\n",
       "      <th>burger_qty</th>\n",
       "      <th>burger_sales</th>\n",
       "    </tr>\n",
       "    <tr>\n",
       "      <th>date</th>\n",
       "      <th></th>\n",
       "      <th></th>\n",
       "      <th></th>\n",
       "      <th></th>\n",
       "    </tr>\n",
       "  </thead>\n",
       "  <tbody>\n",
       "    <tr>\n",
       "      <th>2019-02-15</th>\n",
       "      <td>650.0</td>\n",
       "      <td>2733.25</td>\n",
       "      <td>40.0</td>\n",
       "      <td>307.00</td>\n",
       "    </tr>\n",
       "    <tr>\n",
       "      <th>2019-02-22</th>\n",
       "      <td>1533.0</td>\n",
       "      <td>7104.10</td>\n",
       "      <td>87.0</td>\n",
       "      <td>697.25</td>\n",
       "    </tr>\n",
       "    <tr>\n",
       "      <th>2019-03-01</th>\n",
       "      <td>1744.0</td>\n",
       "      <td>7611.00</td>\n",
       "      <td>82.0</td>\n",
       "      <td>599.25</td>\n",
       "    </tr>\n",
       "    <tr>\n",
       "      <th>2019-03-08</th>\n",
       "      <td>1765.0</td>\n",
       "      <td>7906.75</td>\n",
       "      <td>92.0</td>\n",
       "      <td>742.00</td>\n",
       "    </tr>\n",
       "    <tr>\n",
       "      <th>2019-03-15</th>\n",
       "      <td>1819.0</td>\n",
       "      <td>8122.50</td>\n",
       "      <td>77.0</td>\n",
       "      <td>604.75</td>\n",
       "    </tr>\n",
       "  </tbody>\n",
       "</table>\n",
       "</div>"
      ],
      "text/plain": [
       "            liquor_qty  liquor_sales  burger_qty  burger_sales\n",
       "date                                                          \n",
       "2019-02-15       650.0       2733.25        40.0        307.00\n",
       "2019-02-22      1533.0       7104.10        87.0        697.25\n",
       "2019-03-01      1744.0       7611.00        82.0        599.25\n",
       "2019-03-08      1765.0       7906.75        92.0        742.00\n",
       "2019-03-15      1819.0       8122.50        77.0        604.75"
      ]
     },
     "metadata": {},
     "execution_count": 37
    }
   ],
   "metadata": {}
  },
  {
   "cell_type": "code",
   "execution_count": 44,
   "source": [
    "logistic_df.describe()"
   ],
   "outputs": [
    {
     "output_type": "execute_result",
     "data": {
      "text/html": [
       "<div>\n",
       "<style scoped>\n",
       "    .dataframe tbody tr th:only-of-type {\n",
       "        vertical-align: middle;\n",
       "    }\n",
       "\n",
       "    .dataframe tbody tr th {\n",
       "        vertical-align: top;\n",
       "    }\n",
       "\n",
       "    .dataframe thead th {\n",
       "        text-align: right;\n",
       "    }\n",
       "</style>\n",
       "<table border=\"1\" class=\"dataframe\">\n",
       "  <thead>\n",
       "    <tr style=\"text-align: right;\">\n",
       "      <th></th>\n",
       "      <th>liquor_qty</th>\n",
       "      <th>liquor_sales</th>\n",
       "      <th>burger_qty</th>\n",
       "      <th>burger_sales</th>\n",
       "    </tr>\n",
       "  </thead>\n",
       "  <tbody>\n",
       "    <tr>\n",
       "      <th>count</th>\n",
       "      <td>129.000000</td>\n",
       "      <td>129.000000</td>\n",
       "      <td>128.000000</td>\n",
       "      <td>128.000000</td>\n",
       "    </tr>\n",
       "    <tr>\n",
       "      <th>mean</th>\n",
       "      <td>1748.023255</td>\n",
       "      <td>8225.492634</td>\n",
       "      <td>73.289062</td>\n",
       "      <td>608.295547</td>\n",
       "    </tr>\n",
       "    <tr>\n",
       "      <th>std</th>\n",
       "      <td>851.107719</td>\n",
       "      <td>4572.862037</td>\n",
       "      <td>42.894331</td>\n",
       "      <td>344.207412</td>\n",
       "    </tr>\n",
       "    <tr>\n",
       "      <th>min</th>\n",
       "      <td>8.000000</td>\n",
       "      <td>38.500000</td>\n",
       "      <td>2.000000</td>\n",
       "      <td>10.990000</td>\n",
       "    </tr>\n",
       "    <tr>\n",
       "      <th>25%</th>\n",
       "      <td>958.000000</td>\n",
       "      <td>3950.000000</td>\n",
       "      <td>36.250000</td>\n",
       "      <td>307.187500</td>\n",
       "    </tr>\n",
       "    <tr>\n",
       "      <th>50%</th>\n",
       "      <td>1834.000000</td>\n",
       "      <td>8330.250000</td>\n",
       "      <td>64.000000</td>\n",
       "      <td>550.065000</td>\n",
       "    </tr>\n",
       "    <tr>\n",
       "      <th>75%</th>\n",
       "      <td>2326.000000</td>\n",
       "      <td>10553.500000</td>\n",
       "      <td>103.000000</td>\n",
       "      <td>825.625000</td>\n",
       "    </tr>\n",
       "    <tr>\n",
       "      <th>max</th>\n",
       "      <td>3867.000000</td>\n",
       "      <td>22889.750000</td>\n",
       "      <td>196.000000</td>\n",
       "      <td>1616.250000</td>\n",
       "    </tr>\n",
       "  </tbody>\n",
       "</table>\n",
       "</div>"
      ],
      "text/plain": [
       "        liquor_qty  liquor_sales  burger_qty  burger_sales\n",
       "count   129.000000    129.000000  128.000000    128.000000\n",
       "mean   1748.023255   8225.492634   73.289062    608.295547\n",
       "std     851.107719   4572.862037   42.894331    344.207412\n",
       "min       8.000000     38.500000    2.000000     10.990000\n",
       "25%     958.000000   3950.000000   36.250000    307.187500\n",
       "50%    1834.000000   8330.250000   64.000000    550.065000\n",
       "75%    2326.000000  10553.500000  103.000000    825.625000\n",
       "max    3867.000000  22889.750000  196.000000   1616.250000"
      ]
     },
     "metadata": {},
     "execution_count": 44
    }
   ],
   "metadata": {}
  },
  {
   "cell_type": "code",
   "execution_count": 72,
   "source": [
    "logistic_df = logistic_df.dropna()"
   ],
   "outputs": [],
   "metadata": {}
  },
  {
   "cell_type": "code",
   "execution_count": 73,
   "source": [
    "logistic_df.liquor_sales.value_counts()"
   ],
   "outputs": [
    {
     "output_type": "execute_result",
     "data": {
      "text/plain": [
       "3950.00     1\n",
       "16586.05    1\n",
       "2608.25     1\n",
       "2970.50     1\n",
       "9460.00     1\n",
       "           ..\n",
       "7062.80     1\n",
       "8370.80     1\n",
       "7876.75     1\n",
       "19029.85    1\n",
       "12458.25    1\n",
       "Name: liquor_sales, Length: 128, dtype: int64"
      ]
     },
     "metadata": {},
     "execution_count": 73
    }
   ],
   "metadata": {}
  },
  {
   "cell_type": "code",
   "execution_count": 74,
   "source": [
    "logistic_df['target'] = np.where(logistic_df['burger_sales'] >= 550,1,0)"
   ],
   "outputs": [
    {
     "output_type": "stream",
     "name": "stderr",
     "text": [
      "C:\\Users\\George\\anaconda3\\envs\\mlenv\\lib\\site-packages\\ipykernel_launcher.py:1: SettingWithCopyWarning: \n",
      "A value is trying to be set on a copy of a slice from a DataFrame.\n",
      "Try using .loc[row_indexer,col_indexer] = value instead\n",
      "\n",
      "See the caveats in the documentation: https://pandas.pydata.org/pandas-docs/stable/user_guide/indexing.html#returning-a-view-versus-a-copy\n",
      "  \"\"\"Entry point for launching an IPython kernel.\n"
     ]
    }
   ],
   "metadata": {}
  },
  {
   "cell_type": "code",
   "execution_count": 75,
   "source": [
    "logistic_df.target.value_counts()"
   ],
   "outputs": [
    {
     "output_type": "execute_result",
     "data": {
      "text/plain": [
       "0    64\n",
       "1    64\n",
       "Name: target, dtype: int64"
      ]
     },
     "metadata": {},
     "execution_count": 75
    }
   ],
   "metadata": {}
  },
  {
   "cell_type": "code",
   "execution_count": 76,
   "source": [
    "y = logistic_df['target']\r\n",
    "X = logistic_df.drop(columns='target')"
   ],
   "outputs": [],
   "metadata": {}
  },
  {
   "cell_type": "code",
   "execution_count": 77,
   "source": [
    "from sklearn.model_selection import train_test_split\r\n",
    "X_train, X_test, y_train, y_test = train_test_split(X,\r\n",
    "   y, random_state=1, stratify=y)"
   ],
   "outputs": [],
   "metadata": {}
  },
  {
   "cell_type": "code",
   "execution_count": 78,
   "source": [
    "y_train.shape"
   ],
   "outputs": [
    {
     "output_type": "execute_result",
     "data": {
      "text/plain": [
       "(96,)"
      ]
     },
     "metadata": {},
     "execution_count": 78
    }
   ],
   "metadata": {}
  },
  {
   "cell_type": "code",
   "execution_count": 79,
   "source": [
    "from sklearn.linear_model import LogisticRegression\r\n",
    "classifier = LogisticRegression(solver='lbfgs',\r\n",
    "   max_iter=200,\r\n",
    "   random_state=1)"
   ],
   "outputs": [],
   "metadata": {}
  },
  {
   "cell_type": "code",
   "execution_count": 80,
   "source": [
    "classifier.fit(X_train, y_train)"
   ],
   "outputs": [
    {
     "output_type": "execute_result",
     "data": {
      "text/plain": [
       "LogisticRegression(max_iter=200, random_state=1)"
      ]
     },
     "metadata": {},
     "execution_count": 80
    }
   ],
   "metadata": {}
  },
  {
   "cell_type": "code",
   "execution_count": 86,
   "source": [
    "y_pred = classifier.predict(X_test)\r\n",
    "y_pred"
   ],
   "outputs": [
    {
     "output_type": "execute_result",
     "data": {
      "text/plain": [
       "array([0, 0, 1, 1, 1, 1, 0, 0, 1, 0, 0, 0, 0, 1, 1, 0, 1, 0, 0, 1, 1, 1,\n",
       "       0, 0, 1, 0, 1, 1, 0, 1, 1, 0])"
      ]
     },
     "metadata": {},
     "execution_count": 86
    }
   ],
   "metadata": {}
  },
  {
   "cell_type": "code",
   "execution_count": 83,
   "source": [
    "from sklearn.metrics import accuracy_score\r\n",
    "print(accuracy_score(y_test, y_pred))"
   ],
   "outputs": [
    {
     "output_type": "stream",
     "name": "stdout",
     "text": [
      "1.0\n"
     ]
    }
   ],
   "metadata": {}
  },
  {
   "cell_type": "code",
   "execution_count": null,
   "source": [],
   "outputs": [],
   "metadata": {}
  }
 ],
 "metadata": {
  "orig_nbformat": 4,
  "language_info": {
   "name": "python",
   "version": "3.7.10",
   "mimetype": "text/x-python",
   "codemirror_mode": {
    "name": "ipython",
    "version": 3
   },
   "pygments_lexer": "ipython3",
   "nbconvert_exporter": "python",
   "file_extension": ".py"
  },
  "kernelspec": {
   "name": "python3",
   "display_name": "Python 3.7.10 64-bit ('mlenv': conda)"
  },
  "interpreter": {
   "hash": "6c8a553566e7d9d6570a2e7bc6a1c1923db0ab2cc93e684e65ee621f594b9463"
  }
 },
 "nbformat": 4,
 "nbformat_minor": 2
}