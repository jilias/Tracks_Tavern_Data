{
 "cells": [
  {
   "cell_type": "code",
   "execution_count": 26,
   "source": [
    "#importing dependencies\r\n",
    "import pandas as pd\r\n",
    "import datetime as dt\r\n",
    "import numpy as np\r\n",
    "import matplotlib.pyplot as plt"
   ],
   "outputs": [],
   "metadata": {}
  },
  {
   "cell_type": "code",
   "execution_count": 16,
   "source": [
    "liquor_sales_df = pd.read_csv('Resources/weekly_sales.csv')\r\n",
    "liquor_sales_df.head()"
   ],
   "outputs": [
    {
     "output_type": "execute_result",
     "data": {
      "text/html": [
       "<div>\n",
       "<style scoped>\n",
       "    .dataframe tbody tr th:only-of-type {\n",
       "        vertical-align: middle;\n",
       "    }\n",
       "\n",
       "    .dataframe tbody tr th {\n",
       "        vertical-align: top;\n",
       "    }\n",
       "\n",
       "    .dataframe thead th {\n",
       "        text-align: right;\n",
       "    }\n",
       "</style>\n",
       "<table border=\"1\" class=\"dataframe\">\n",
       "  <thead>\n",
       "    <tr style=\"text-align: right;\">\n",
       "      <th></th>\n",
       "      <th>Item</th>\n",
       "      <th>Item Code</th>\n",
       "      <th>Quantity</th>\n",
       "      <th>Unit Price</th>\n",
       "      <th>Total Sales Amount</th>\n",
       "      <th>date</th>\n",
       "    </tr>\n",
       "  </thead>\n",
       "  <tbody>\n",
       "    <tr>\n",
       "      <th>0</th>\n",
       "      <td>RAIL Vodka</td>\n",
       "      <td>3339</td>\n",
       "      <td>46.0</td>\n",
       "      <td>4.826087</td>\n",
       "      <td>222.0</td>\n",
       "      <td>2019-02-15</td>\n",
       "    </tr>\n",
       "    <tr>\n",
       "      <th>1</th>\n",
       "      <td>PINT LKFT IPA</td>\n",
       "      <td>3136</td>\n",
       "      <td>44.0</td>\n",
       "      <td>3.579545</td>\n",
       "      <td>157.5</td>\n",
       "      <td>2019-02-15</td>\n",
       "    </tr>\n",
       "    <tr>\n",
       "      <th>2</th>\n",
       "      <td>SHOT Tullamore Dew</td>\n",
       "      <td>3327</td>\n",
       "      <td>38.0</td>\n",
       "      <td>4.000000</td>\n",
       "      <td>152.0</td>\n",
       "      <td>2019-02-15</td>\n",
       "    </tr>\n",
       "    <tr>\n",
       "      <th>3</th>\n",
       "      <td>PINT Spotted Cow</td>\n",
       "      <td>3140</td>\n",
       "      <td>36.0</td>\n",
       "      <td>3.750000</td>\n",
       "      <td>135.0</td>\n",
       "      <td>2019-02-15</td>\n",
       "    </tr>\n",
       "    <tr>\n",
       "      <th>4</th>\n",
       "      <td>PINT Miller High Life</td>\n",
       "      <td>3137</td>\n",
       "      <td>30.0</td>\n",
       "      <td>3.000000</td>\n",
       "      <td>90.0</td>\n",
       "      <td>2019-02-15</td>\n",
       "    </tr>\n",
       "  </tbody>\n",
       "</table>\n",
       "</div>"
      ],
      "text/plain": [
       "                    Item  Item Code  Quantity  Unit Price  Total Sales Amount  \\\n",
       "0             RAIL Vodka       3339      46.0    4.826087               222.0   \n",
       "1          PINT LKFT IPA       3136      44.0    3.579545               157.5   \n",
       "2     SHOT Tullamore Dew       3327      38.0    4.000000               152.0   \n",
       "3       PINT Spotted Cow       3140      36.0    3.750000               135.0   \n",
       "4  PINT Miller High Life       3137      30.0    3.000000                90.0   \n",
       "\n",
       "         date  \n",
       "0  2019-02-15  \n",
       "1  2019-02-15  \n",
       "2  2019-02-15  \n",
       "3  2019-02-15  \n",
       "4  2019-02-15  "
      ]
     },
     "metadata": {},
     "execution_count": 16
    }
   ],
   "metadata": {}
  },
  {
   "cell_type": "code",
   "execution_count": 17,
   "source": [
    "liquor_sales_df.Item.value_counts(normalize=True)"
   ],
   "outputs": [
    {
     "output_type": "execute_result",
     "data": {
      "text/plain": [
       "BTL Miller Lite         0.009240\n",
       "BTL Bud Light           0.008662\n",
       "PINT Stein              0.008085\n",
       "SHOT Tullamore Dew      0.008085\n",
       "CAN PBR 16oz            0.008085\n",
       "                          ...   \n",
       "LSF LITE                0.000064\n",
       "Mount Royal Light       0.000064\n",
       "SHOT Chopin             0.000064\n",
       "LSF Beer of the Week    0.000064\n",
       "SHOT Ballyhoo           0.000064\n",
       "Name: Item, Length: 433, dtype: float64"
      ]
     },
     "metadata": {},
     "execution_count": 17
    }
   ],
   "metadata": {}
  },
  {
   "cell_type": "code",
   "execution_count": 18,
   "source": [
    "liquor_sales_df.dtypes"
   ],
   "outputs": [
    {
     "output_type": "execute_result",
     "data": {
      "text/plain": [
       "Item                   object\n",
       "Item Code               int64\n",
       "Quantity              float64\n",
       "Unit Price            float64\n",
       "Total Sales Amount    float64\n",
       "date                   object\n",
       "dtype: object"
      ]
     },
     "metadata": {},
     "execution_count": 18
    }
   ],
   "metadata": {}
  },
  {
   "cell_type": "code",
   "execution_count": 20,
   "source": [
    "liquor_sales_df['date'] = pd.to_datetime(liquor_sales_df['date'])\r\n",
    "liquor_sales_df.dtypes"
   ],
   "outputs": [
    {
     "output_type": "execute_result",
     "data": {
      "text/plain": [
       "Item                          object\n",
       "Item Code                      int64\n",
       "Quantity                     float64\n",
       "Unit Price                   float64\n",
       "Total Sales Amount           float64\n",
       "date                  datetime64[ns]\n",
       "dtype: object"
      ]
     },
     "metadata": {},
     "execution_count": 20
    }
   ],
   "metadata": {}
  },
  {
   "cell_type": "code",
   "execution_count": 25,
   "source": [
    "liquor_total_weekly_sales = liquor_sales_df.groupby(['date']).sum(['Quantity', 'Total Sales Amount'])\r\n",
    "liquor_total_weekly_sales.drop(['Item Code', 'Unit Price'], inplace=True, axis=1)\r\n",
    "liquor_total_weekly_sales.head()"
   ],
   "outputs": [
    {
     "output_type": "execute_result",
     "data": {
      "text/html": [
       "<div>\n",
       "<style scoped>\n",
       "    .dataframe tbody tr th:only-of-type {\n",
       "        vertical-align: middle;\n",
       "    }\n",
       "\n",
       "    .dataframe tbody tr th {\n",
       "        vertical-align: top;\n",
       "    }\n",
       "\n",
       "    .dataframe thead th {\n",
       "        text-align: right;\n",
       "    }\n",
       "</style>\n",
       "<table border=\"1\" class=\"dataframe\">\n",
       "  <thead>\n",
       "    <tr style=\"text-align: right;\">\n",
       "      <th></th>\n",
       "      <th>Quantity</th>\n",
       "      <th>Total Sales Amount</th>\n",
       "    </tr>\n",
       "    <tr>\n",
       "      <th>date</th>\n",
       "      <th></th>\n",
       "      <th></th>\n",
       "    </tr>\n",
       "  </thead>\n",
       "  <tbody>\n",
       "    <tr>\n",
       "      <th>2019-02-15</th>\n",
       "      <td>569.0</td>\n",
       "      <td>2455.25</td>\n",
       "    </tr>\n",
       "    <tr>\n",
       "      <th>2019-02-22</th>\n",
       "      <td>1277.0</td>\n",
       "      <td>5790.00</td>\n",
       "    </tr>\n",
       "    <tr>\n",
       "      <th>2019-03-01</th>\n",
       "      <td>1541.0</td>\n",
       "      <td>6587.25</td>\n",
       "    </tr>\n",
       "    <tr>\n",
       "      <th>2019-03-08</th>\n",
       "      <td>1496.0</td>\n",
       "      <td>6543.50</td>\n",
       "    </tr>\n",
       "    <tr>\n",
       "      <th>2019-03-15</th>\n",
       "      <td>1551.0</td>\n",
       "      <td>6834.75</td>\n",
       "    </tr>\n",
       "  </tbody>\n",
       "</table>\n",
       "</div>"
      ],
      "text/plain": [
       "            Quantity  Total Sales Amount\n",
       "date                                    \n",
       "2019-02-15     569.0             2455.25\n",
       "2019-02-22    1277.0             5790.00\n",
       "2019-03-01    1541.0             6587.25\n",
       "2019-03-08    1496.0             6543.50\n",
       "2019-03-15    1551.0             6834.75"
      ]
     },
     "metadata": {},
     "execution_count": 25
    }
   ],
   "metadata": {}
  },
  {
   "cell_type": "code",
   "execution_count": 33,
   "source": [
    "liquor_total_weekly_sales.iloc[:,0]"
   ],
   "outputs": [
    {
     "output_type": "execute_result",
     "data": {
      "text/plain": [
       "date\n",
       "2019-02-15     569.0\n",
       "2019-02-22    1277.0\n",
       "2019-03-01    1541.0\n",
       "2019-03-08    1496.0\n",
       "2019-03-15    1551.0\n",
       "               ...  \n",
       "2021-08-20    1872.0\n",
       "2021-08-27    1543.0\n",
       "2021-09-03    1626.0\n",
       "2021-09-10    1741.0\n",
       "2021-09-17    1543.0\n",
       "Name: Quantity, Length: 127, dtype: float64"
      ]
     },
     "metadata": {},
     "execution_count": 33
    }
   ],
   "metadata": {}
  },
  {
   "cell_type": "code",
   "execution_count": 36,
   "source": [
    "plt.plot(liquor_total_weekly_sales.index, liquor_total_weekly_sales['Total Sales Amount'])\r\n",
    "\r\n",
    "# Create labels for the X and Y axis\r\n",
    "plt.xlabel(\"Date\")\r\n",
    "plt.ylabel(\"Sales\")\r\n",
    "plt.title('Track Tavern Weekly Sales')\r\n",
    "plt.xticks(rotation=90)\r\n",
    "\r\n",
    "# Save and display the chart\r\n",
    "#plt.savefig(\"\")\r\n",
    "plt.show()"
   ],
   "outputs": [
    {
     "output_type": "display_data",
     "data": {
      "image/png": "[encoded data removed]",
      "text/plain": [
       "<Figure size 432x288 with 1 Axes>"
      ]
     },
     "metadata": {
      "needs_background": "light"
     }
    }
   ],
   "metadata": {}
  },
  {
   "cell_type": "code",
   "execution_count": null,
   "source": [],
   "outputs": [],
   "metadata": {}
  }
 ],
 "metadata": {
  "orig_nbformat": 4,
  "language_info": {
   "name": "python",
   "version": "3.7.10",
   "mimetype": "text/x-python",
   "codemirror_mode": {
    "name": "ipython",
    "version": 3
   },
   "pygments_lexer": "ipython3",
   "nbconvert_exporter": "python",
   "file_extension": ".py"
  },
  "kernelspec": {
   "name": "python3",
   "display_name": "Python 3.7.10 64-bit ('mlenv': conda)"
  },
  "interpreter": {
   "hash": "6c8a553566e7d9d6570a2e7bc6a1c1923db0ab2cc93e684e65ee621f594b9463"
  }
 },
 "nbformat": 4,
 "nbformat_minor": 2
}