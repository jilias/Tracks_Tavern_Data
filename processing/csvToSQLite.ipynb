{
 "cells": [
  {
   "cell_type": "markdown",
   "id": "ff7718bf",
   "metadata": {},
   "source": [
    "# Converting a group of csv files with our data to a SQLite database"
   ]
  },
  {
   "cell_type": "markdown",
   "id": "5e853656",
   "metadata": {},
   "source": [
    "The purpose of the following notebook is to highlight the process of turning the csv files into a usable, and easily accessible database"
   ]
  },
  {
   "cell_type": "code",
   "execution_count": 1,
   "id": "6c3f67f0",
   "metadata": {},
   "outputs": [],
   "source": [
    "#import dependencies\n",
    "import pandas as pd\n",
    "import sqlite3\n",
    "import sqlalchemy as sql\n",
    "import datetime as dt\n",
    "\n",
    "##### Set Up database ######\n",
    "engine = sql.create_engine(\"sqlite:///../Database/sales.db\", echo=True)\n"
   ]
  },
  {
   "cell_type": "code",
   "execution_count": 2,
   "id": "4d41ac96",
   "metadata": {},
   "outputs": [],
   "source": [
    "#load the file(s) we need into a pandas df\n",
    "path = \"../Resources\"\n",
    "weather_df = pd.read_csv(f\"{path}/week_weather_summary.csv\")\n",
    "sales_df = pd.read_csv(f\"{path}/weekly_sales_complete_Type.csv\")"
   ]
  },
  {
   "cell_type": "code",
   "execution_count": 3,
   "id": "331514b8",
   "metadata": {},
   "outputs": [],
   "source": [
    "#preview both dfs"
   ]
  },
  {
   "cell_type": "markdown",
   "id": "ff29075a",
   "metadata": {},
   "source": [
    "## Weather"
   ]
  },
  {
   "cell_type": "code",
   "execution_count": 4,
   "id": "6f6efeb7",
   "metadata": {
    "scrolled": false
   },
   "outputs": [
    {
     "data": {
      "text/html": [
       "<div>\n",
       "<style scoped>\n",
       "    .dataframe tbody tr th:only-of-type {\n",
       "        vertical-align: middle;\n",
       "    }\n",
       "\n",
       "    .dataframe tbody tr th {\n",
       "        vertical-align: top;\n",
       "    }\n",
       "\n",
       "    .dataframe thead th {\n",
       "        text-align: right;\n",
       "    }\n",
       "</style>\n",
       "<table border=\"1\" class=\"dataframe\">\n",
       "  <thead>\n",
       "    <tr style=\"text-align: right;\">\n",
       "      <th></th>\n",
       "      <th>dt</th>\n",
       "      <th>temp</th>\n",
       "      <th>feels_like</th>\n",
       "      <th>temp_min</th>\n",
       "      <th>temp_max</th>\n",
       "      <th>pressure</th>\n",
       "      <th>humidity</th>\n",
       "      <th>wind_speed</th>\n",
       "      <th>clouds_all</th>\n",
       "      <th>weather_main_Clear</th>\n",
       "      <th>weather_main_Clouds</th>\n",
       "      <th>weather_main_Drizzle</th>\n",
       "      <th>weather_main_Fog</th>\n",
       "      <th>weather_main_Haze</th>\n",
       "      <th>weather_main_Mist</th>\n",
       "      <th>weather_main_Rain</th>\n",
       "      <th>weather_main_Smoke</th>\n",
       "      <th>weather_main_Snow</th>\n",
       "      <th>weather_main_Thunderstorm</th>\n",
       "    </tr>\n",
       "  </thead>\n",
       "  <tbody>\n",
       "    <tr>\n",
       "      <th>0</th>\n",
       "      <td>2019-02-15</td>\n",
       "      <td>23.368876</td>\n",
       "      <td>14.429101</td>\n",
       "      <td>-5.10</td>\n",
       "      <td>41.14</td>\n",
       "      <td>1018.101124</td>\n",
       "      <td>76.247191</td>\n",
       "      <td>11.688090</td>\n",
       "      <td>50.320225</td>\n",
       "      <td>0.410112</td>\n",
       "      <td>0.224719</td>\n",
       "      <td>0.005618</td>\n",
       "      <td>0.005618</td>\n",
       "      <td>0.000000</td>\n",
       "      <td>0.039326</td>\n",
       "      <td>0.067416</td>\n",
       "      <td>0.0</td>\n",
       "      <td>0.247191</td>\n",
       "      <td>0.0</td>\n",
       "    </tr>\n",
       "    <tr>\n",
       "      <th>1</th>\n",
       "      <td>2019-02-22</td>\n",
       "      <td>22.586823</td>\n",
       "      <td>18.859063</td>\n",
       "      <td>0.37</td>\n",
       "      <td>42.76</td>\n",
       "      <td>1019.541667</td>\n",
       "      <td>77.239583</td>\n",
       "      <td>3.882969</td>\n",
       "      <td>61.526042</td>\n",
       "      <td>0.229167</td>\n",
       "      <td>0.213542</td>\n",
       "      <td>0.041667</td>\n",
       "      <td>0.010417</td>\n",
       "      <td>0.062500</td>\n",
       "      <td>0.088542</td>\n",
       "      <td>0.130208</td>\n",
       "      <td>0.0</td>\n",
       "      <td>0.223958</td>\n",
       "      <td>0.0</td>\n",
       "    </tr>\n",
       "    <tr>\n",
       "      <th>2</th>\n",
       "      <td>2019-03-01</td>\n",
       "      <td>15.662619</td>\n",
       "      <td>11.220119</td>\n",
       "      <td>-8.72</td>\n",
       "      <td>31.91</td>\n",
       "      <td>1022.636905</td>\n",
       "      <td>64.565476</td>\n",
       "      <td>3.630298</td>\n",
       "      <td>43.059524</td>\n",
       "      <td>0.464286</td>\n",
       "      <td>0.386905</td>\n",
       "      <td>0.000000</td>\n",
       "      <td>0.000000</td>\n",
       "      <td>0.053571</td>\n",
       "      <td>0.005952</td>\n",
       "      <td>0.000000</td>\n",
       "      <td>0.0</td>\n",
       "      <td>0.089286</td>\n",
       "      <td>0.0</td>\n",
       "    </tr>\n",
       "    <tr>\n",
       "      <th>3</th>\n",
       "      <td>2019-03-08</td>\n",
       "      <td>34.007813</td>\n",
       "      <td>31.361771</td>\n",
       "      <td>5.77</td>\n",
       "      <td>62.64</td>\n",
       "      <td>1012.838542</td>\n",
       "      <td>79.098958</td>\n",
       "      <td>3.752135</td>\n",
       "      <td>52.005208</td>\n",
       "      <td>0.302083</td>\n",
       "      <td>0.203125</td>\n",
       "      <td>0.057292</td>\n",
       "      <td>0.010417</td>\n",
       "      <td>0.057292</td>\n",
       "      <td>0.109375</td>\n",
       "      <td>0.239583</td>\n",
       "      <td>0.0</td>\n",
       "      <td>0.020833</td>\n",
       "      <td>0.0</td>\n",
       "    </tr>\n",
       "    <tr>\n",
       "      <th>4</th>\n",
       "      <td>2019-03-15</td>\n",
       "      <td>36.160057</td>\n",
       "      <td>33.896761</td>\n",
       "      <td>21.74</td>\n",
       "      <td>52.23</td>\n",
       "      <td>1019.306818</td>\n",
       "      <td>71.698864</td>\n",
       "      <td>3.503636</td>\n",
       "      <td>48.096591</td>\n",
       "      <td>0.392045</td>\n",
       "      <td>0.340909</td>\n",
       "      <td>0.028409</td>\n",
       "      <td>0.000000</td>\n",
       "      <td>0.051136</td>\n",
       "      <td>0.079545</td>\n",
       "      <td>0.102273</td>\n",
       "      <td>0.0</td>\n",
       "      <td>0.005682</td>\n",
       "      <td>0.0</td>\n",
       "    </tr>\n",
       "  </tbody>\n",
       "</table>\n",
       "</div>"
      ],
      "text/plain": [
       "           dt       temp  feels_like  temp_min  temp_max     pressure  \\\n",
       "0  2019-02-15  23.368876   14.429101     -5.10     41.14  1018.101124   \n",
       "1  2019-02-22  22.586823   18.859063      0.37     42.76  1019.541667   \n",
       "2  2019-03-01  15.662619   11.220119     -8.72     31.91  1022.636905   \n",
       "3  2019-03-08  34.007813   31.361771      5.77     62.64  1012.838542   \n",
       "4  2019-03-15  36.160057   33.896761     21.74     52.23  1019.306818   \n",
       "\n",
       "    humidity  wind_speed  clouds_all  weather_main_Clear  weather_main_Clouds  \\\n",
       "0  76.247191   11.688090   50.320225            0.410112             0.224719   \n",
       "1  77.239583    3.882969   61.526042            0.229167             0.213542   \n",
       "2  64.565476    3.630298   43.059524            0.464286             0.386905   \n",
       "3  79.098958    3.752135   52.005208            0.302083             0.203125   \n",
       "4  71.698864    3.503636   48.096591            0.392045             0.340909   \n",
       "\n",
       "   weather_main_Drizzle  weather_main_Fog  weather_main_Haze  \\\n",
       "0              0.005618          0.005618           0.000000   \n",
       "1              0.041667          0.010417           0.062500   \n",
       "2              0.000000          0.000000           0.053571   \n",
       "3              0.057292          0.010417           0.057292   \n",
       "4              0.028409          0.000000           0.051136   \n",
       "\n",
       "   weather_main_Mist  weather_main_Rain  weather_main_Smoke  \\\n",
       "0           0.039326           0.067416                 0.0   \n",
       "1           0.088542           0.130208                 0.0   \n",
       "2           0.005952           0.000000                 0.0   \n",
       "3           0.109375           0.239583                 0.0   \n",
       "4           0.079545           0.102273                 0.0   \n",
       "\n",
       "   weather_main_Snow  weather_main_Thunderstorm  \n",
       "0           0.247191                        0.0  \n",
       "1           0.223958                        0.0  \n",
       "2           0.089286                        0.0  \n",
       "3           0.020833                        0.0  \n",
       "4           0.005682                        0.0  "
      ]
     },
     "execution_count": 4,
     "metadata": {},
     "output_type": "execute_result"
    }
   ],
   "source": [
    "weather_df.head()"
   ]
  },
  {
   "cell_type": "code",
   "execution_count": 5,
   "id": "33af7830",
   "metadata": {
    "scrolled": true
   },
   "outputs": [
    {
     "data": {
      "text/plain": [
       "dt                            object\n",
       "temp                         float64\n",
       "feels_like                   float64\n",
       "temp_min                     float64\n",
       "temp_max                     float64\n",
       "pressure                     float64\n",
       "humidity                     float64\n",
       "wind_speed                   float64\n",
       "clouds_all                   float64\n",
       "weather_main_Clear           float64\n",
       "weather_main_Clouds          float64\n",
       "weather_main_Drizzle         float64\n",
       "weather_main_Fog             float64\n",
       "weather_main_Haze            float64\n",
       "weather_main_Mist            float64\n",
       "weather_main_Rain            float64\n",
       "weather_main_Smoke           float64\n",
       "weather_main_Snow            float64\n",
       "weather_main_Thunderstorm    float64\n",
       "dtype: object"
      ]
     },
     "execution_count": 5,
     "metadata": {},
     "output_type": "execute_result"
    }
   ],
   "source": [
    "#checking data types\n",
    "weather_df.dtypes"
   ]
  },
  {
   "cell_type": "code",
   "execution_count": 6,
   "id": "cb8459de",
   "metadata": {},
   "outputs": [],
   "source": [
    "#converting respective date column into datetime format for easier comparison\n",
    "weather_df['dt'] = pd.to_datetime(weather_df['dt'])"
   ]
  },
  {
   "cell_type": "markdown",
   "id": "ca3db876",
   "metadata": {},
   "source": [
    "## Sales"
   ]
  },
  {
   "cell_type": "code",
   "execution_count": 7,
   "id": "55c8d24e",
   "metadata": {
    "scrolled": false
   },
   "outputs": [
    {
     "data": {
      "text/html": [
       "<div>\n",
       "<style scoped>\n",
       "    .dataframe tbody tr th:only-of-type {\n",
       "        vertical-align: middle;\n",
       "    }\n",
       "\n",
       "    .dataframe tbody tr th {\n",
       "        vertical-align: top;\n",
       "    }\n",
       "\n",
       "    .dataframe thead th {\n",
       "        text-align: right;\n",
       "    }\n",
       "</style>\n",
       "<table border=\"1\" class=\"dataframe\">\n",
       "  <thead>\n",
       "    <tr style=\"text-align: right;\">\n",
       "      <th></th>\n",
       "      <th>item</th>\n",
       "      <th>item_code</th>\n",
       "      <th>quantity</th>\n",
       "      <th>unit_price</th>\n",
       "      <th>total_sales_amount</th>\n",
       "      <th>date</th>\n",
       "      <th>Type</th>\n",
       "    </tr>\n",
       "  </thead>\n",
       "  <tbody>\n",
       "    <tr>\n",
       "      <th>0</th>\n",
       "      <td>PINT Spotted Cow</td>\n",
       "      <td>3140</td>\n",
       "      <td>64.0</td>\n",
       "      <td>3.937500</td>\n",
       "      <td>252.00</td>\n",
       "      <td>2021-01-08</td>\n",
       "      <td>Beer</td>\n",
       "    </tr>\n",
       "    <tr>\n",
       "      <th>1</th>\n",
       "      <td>DBL RAIL Vodka</td>\n",
       "      <td>3455</td>\n",
       "      <td>37.0</td>\n",
       "      <td>4.945946</td>\n",
       "      <td>183.00</td>\n",
       "      <td>2021-01-08</td>\n",
       "      <td>Vodka</td>\n",
       "    </tr>\n",
       "    <tr>\n",
       "      <th>2</th>\n",
       "      <td>BTL Miller High Life</td>\n",
       "      <td>3122</td>\n",
       "      <td>31.0</td>\n",
       "      <td>3.250000</td>\n",
       "      <td>100.75</td>\n",
       "      <td>2021-01-08</td>\n",
       "      <td>Beer</td>\n",
       "    </tr>\n",
       "    <tr>\n",
       "      <th>3</th>\n",
       "      <td>PINT Stein</td>\n",
       "      <td>3141</td>\n",
       "      <td>29.0</td>\n",
       "      <td>3.517241</td>\n",
       "      <td>102.00</td>\n",
       "      <td>2021-01-08</td>\n",
       "      <td>Beer</td>\n",
       "    </tr>\n",
       "    <tr>\n",
       "      <th>4</th>\n",
       "      <td>SHOT Seagrams VO</td>\n",
       "      <td>3325</td>\n",
       "      <td>26.0</td>\n",
       "      <td>2.423077</td>\n",
       "      <td>63.00</td>\n",
       "      <td>2021-01-08</td>\n",
       "      <td>Scotch/Whiskey</td>\n",
       "    </tr>\n",
       "  </tbody>\n",
       "</table>\n",
       "</div>"
      ],
      "text/plain": [
       "                   item  item_code  quantity  unit_price  total_sales_amount  \\\n",
       "0      PINT Spotted Cow       3140      64.0    3.937500              252.00   \n",
       "1        DBL RAIL Vodka       3455      37.0    4.945946              183.00   \n",
       "2  BTL Miller High Life       3122      31.0    3.250000              100.75   \n",
       "3            PINT Stein       3141      29.0    3.517241              102.00   \n",
       "4      SHOT Seagrams VO       3325      26.0    2.423077               63.00   \n",
       "\n",
       "         date            Type  \n",
       "0  2021-01-08            Beer  \n",
       "1  2021-01-08           Vodka  \n",
       "2  2021-01-08            Beer  \n",
       "3  2021-01-08            Beer  \n",
       "4  2021-01-08  Scotch/Whiskey  "
      ]
     },
     "execution_count": 7,
     "metadata": {},
     "output_type": "execute_result"
    }
   ],
   "source": [
    "sales_df.head()"
   ]
  },
  {
   "cell_type": "code",
   "execution_count": 8,
   "id": "8ac62aae",
   "metadata": {
    "scrolled": true
   },
   "outputs": [
    {
     "data": {
      "text/plain": [
       "item                   object\n",
       "item_code               int64\n",
       "quantity              float64\n",
       "unit_price            float64\n",
       "total_sales_amount    float64\n",
       "date                   object\n",
       "Type                   object\n",
       "dtype: object"
      ]
     },
     "execution_count": 8,
     "metadata": {},
     "output_type": "execute_result"
    }
   ],
   "source": [
    "#checking data types\n",
    "sales_df.dtypes"
   ]
  },
  {
   "cell_type": "code",
   "execution_count": 9,
   "id": "c7f70da6",
   "metadata": {},
   "outputs": [],
   "source": [
    "#converting respective date column into datetime format for easier comparison\n",
    "sales_df['date'] = pd.to_datetime(sales_df['date'])\n",
    "\n",
    "#converting quantity column to int\n",
    "sales_df['quantity'] = sales_df['quantity'].astype(int)"
   ]
  },
  {
   "cell_type": "code",
   "execution_count": 10,
   "id": "50d12475",
   "metadata": {},
   "outputs": [
    {
     "data": {
      "text/plain": [
       "item                          object\n",
       "item_code                      int64\n",
       "quantity                       int32\n",
       "unit_price                   float64\n",
       "total_sales_amount           float64\n",
       "date                  datetime64[ns]\n",
       "Type                          object\n",
       "dtype: object"
      ]
     },
     "execution_count": 10,
     "metadata": {},
     "output_type": "execute_result"
    }
   ],
   "source": [
    "sales_df.dtypes"
   ]
  },
  {
   "cell_type": "code",
   "execution_count": 11,
   "id": "5909f6d1",
   "metadata": {},
   "outputs": [
    {
     "data": {
      "text/html": [
       "<div>\n",
       "<style scoped>\n",
       "    .dataframe tbody tr th:only-of-type {\n",
       "        vertical-align: middle;\n",
       "    }\n",
       "\n",
       "    .dataframe tbody tr th {\n",
       "        vertical-align: top;\n",
       "    }\n",
       "\n",
       "    .dataframe thead th {\n",
       "        text-align: right;\n",
       "    }\n",
       "</style>\n",
       "<table border=\"1\" class=\"dataframe\">\n",
       "  <thead>\n",
       "    <tr style=\"text-align: right;\">\n",
       "      <th></th>\n",
       "      <th>item</th>\n",
       "      <th>item_code</th>\n",
       "      <th>quantity</th>\n",
       "      <th>unit_price</th>\n",
       "      <th>total_sales_amount</th>\n",
       "      <th>date</th>\n",
       "      <th>Type</th>\n",
       "    </tr>\n",
       "  </thead>\n",
       "  <tbody>\n",
       "    <tr>\n",
       "      <th>0</th>\n",
       "      <td>PINT Spotted Cow</td>\n",
       "      <td>3140</td>\n",
       "      <td>64</td>\n",
       "      <td>3.937500</td>\n",
       "      <td>252.00</td>\n",
       "      <td>2021-01-08</td>\n",
       "      <td>Beer</td>\n",
       "    </tr>\n",
       "    <tr>\n",
       "      <th>1</th>\n",
       "      <td>DBL RAIL Vodka</td>\n",
       "      <td>3455</td>\n",
       "      <td>37</td>\n",
       "      <td>4.945946</td>\n",
       "      <td>183.00</td>\n",
       "      <td>2021-01-08</td>\n",
       "      <td>Vodka</td>\n",
       "    </tr>\n",
       "    <tr>\n",
       "      <th>2</th>\n",
       "      <td>BTL Miller High Life</td>\n",
       "      <td>3122</td>\n",
       "      <td>31</td>\n",
       "      <td>3.250000</td>\n",
       "      <td>100.75</td>\n",
       "      <td>2021-01-08</td>\n",
       "      <td>Beer</td>\n",
       "    </tr>\n",
       "    <tr>\n",
       "      <th>3</th>\n",
       "      <td>PINT Stein</td>\n",
       "      <td>3141</td>\n",
       "      <td>29</td>\n",
       "      <td>3.517241</td>\n",
       "      <td>102.00</td>\n",
       "      <td>2021-01-08</td>\n",
       "      <td>Beer</td>\n",
       "    </tr>\n",
       "    <tr>\n",
       "      <th>4</th>\n",
       "      <td>SHOT Seagrams VO</td>\n",
       "      <td>3325</td>\n",
       "      <td>26</td>\n",
       "      <td>2.423077</td>\n",
       "      <td>63.00</td>\n",
       "      <td>2021-01-08</td>\n",
       "      <td>Scotch/Whiskey</td>\n",
       "    </tr>\n",
       "  </tbody>\n",
       "</table>\n",
       "</div>"
      ],
      "text/plain": [
       "                   item  item_code  quantity  unit_price  total_sales_amount  \\\n",
       "0      PINT Spotted Cow       3140        64    3.937500              252.00   \n",
       "1        DBL RAIL Vodka       3455        37    4.945946              183.00   \n",
       "2  BTL Miller High Life       3122        31    3.250000              100.75   \n",
       "3            PINT Stein       3141        29    3.517241              102.00   \n",
       "4      SHOT Seagrams VO       3325        26    2.423077               63.00   \n",
       "\n",
       "        date            Type  \n",
       "0 2021-01-08            Beer  \n",
       "1 2021-01-08           Vodka  \n",
       "2 2021-01-08            Beer  \n",
       "3 2021-01-08            Beer  \n",
       "4 2021-01-08  Scotch/Whiskey  "
      ]
     },
     "execution_count": 11,
     "metadata": {},
     "output_type": "execute_result"
    }
   ],
   "source": [
    "sales_df.head()"
   ]
  },
  {
   "cell_type": "markdown",
   "id": "079e762b",
   "metadata": {},
   "source": [
    "## Moving Tables to SQLite"
   ]
  },
  {
   "cell_type": "markdown",
   "id": "47fee333",
   "metadata": {},
   "source": [
    "After preparing our CSVs, we can move on to import them to the database"
   ]
  },
  {
   "cell_type": "markdown",
   "id": "a4941e9b",
   "metadata": {},
   "source": [
    "**NOTE:** Tables must have already been created (see [data/SQLTableBuild.sql](data/SQLTableBuild.sql))"
   ]
  },
  {
   "cell_type": "code",
   "execution_count": 13,
   "id": "4f81fe9e",
   "metadata": {
    "scrolled": true
   },
   "outputs": [
    {
     "name": "stdout",
     "output_type": "stream",
     "text": [
      "2021-10-06 19:11:19,116 INFO sqlalchemy.engine.Engine PRAGMA main.table_info(\"sales\")\n",
      "2021-10-06 19:11:19,117 INFO sqlalchemy.engine.Engine [raw sql] ()\n",
      "2021-10-06 19:11:19,160 INFO sqlalchemy.engine.Engine BEGIN (implicit)\n",
      "2021-10-06 19:11:19,558 INFO sqlalchemy.engine.Engine INSERT INTO sales (\"index\", item, item_code, quantity, unit_price, total_sales_amount, date, \"Type\") VALUES (?, ?, ?, ?, ?, ?, ?, ?)\n",
      "2021-10-06 19:11:19,558 INFO sqlalchemy.engine.Engine [generated in 0.36067s] ((0, 'PINT Spotted Cow', 3140, 64, 3.9375, 252.0, '2021-01-08 00:00:00.000000', 'Beer'), (1, 'DBL RAIL Vodka', 3455, 37, 4.9459459459459, 183.0, '2021-01-08 00:00:00.000000', 'Vodka'), (2, 'BTL Miller High Life', 3122, 31, 3.25, 100.75, '2021-01-08 00:00:00.000000', 'Beer'), (3, 'PINT Stein', 3141, 29, 3.5172413793103, 102.0, '2021-01-08 00:00:00.000000', 'Beer'), (4, 'SHOT Seagrams VO', 3325, 26, 2.4230769230769, 63.0, '2021-01-08 00:00:00.000000', 'Scotch/Whiskey'), (5, 'CAN PBR 16oz', 3129, 24, 4.0, 96.0, '2021-01-08 00:00:00.000000', 'Beer'), (6, 'PINT Moon Man', 3349, 21, 2.4285714285714, 51.0, '2021-01-08 00:00:00.000000', 'Beer'), (7, 'SHOT Jameson', 3317, 20, 2.2, 44.0, '2021-01-08 00:00:00.000000', 'Scotch/Whiskey')  ... displaying 10 of 23846 total bound parameter sets ...  (23844, 'SHOT Titos', 3655, 1, 0.0, 0.0, '2020-01-03 00:00:00.000000', 'Vodka'), (23845, 'PINT LKFT Oktoberfest', 3697, 1, 4.5, 4.5, '2020-01-03 00:00:00.000000', 'Beer'))\n",
      "2021-10-06 19:11:19,626 INFO sqlalchemy.engine.Engine COMMIT\n"
     ]
    }
   ],
   "source": [
    "#save df to sqlite table\n",
    "sales_df.to_sql('sales', con=engine, if_exists='append')"
   ]
  },
  {
   "cell_type": "code",
   "execution_count": 17,
   "id": "3f617b4b",
   "metadata": {},
   "outputs": [
    {
     "name": "stdout",
     "output_type": "stream",
     "text": [
      "2021-10-06 19:14:48,766 INFO sqlalchemy.engine.Engine PRAGMA main.table_info(\"weather\")\n",
      "2021-10-06 19:14:48,767 INFO sqlalchemy.engine.Engine [raw sql] ()\n",
      "2021-10-06 19:14:48,772 INFO sqlalchemy.engine.Engine BEGIN (implicit)\n",
      "2021-10-06 19:14:48,779 INFO sqlalchemy.engine.Engine INSERT INTO weather (\"index\", dt, \"temp\", feels_like, temp_min, temp_max, pressure, humidity, wind_speed, clouds_all, \"weather_main_Clear\", \"weather_main_Clouds\", \"weather_main_Drizzle\", \"weather_main_Fog\", \"weather_main_Haze\", \"weather_main_Mist\", \"weather_main_Rain\", \"weather_main_Smoke\", \"weather_main_Snow\", \"weather_main_Thunderstorm\") VALUES (?, ?, ?, ?, ?, ?, ?, ?, ?, ?, ?, ?, ?, ?, ?, ?, ?, ?, ?, ?)\n",
      "2021-10-06 19:14:48,780 INFO sqlalchemy.engine.Engine [generated in 0.00475s] ((0, '2019-02-15 00:00:00.000000', 23.368876404494387, 14.429101123595508, -5.1, 41.14, 1018.1011235955056, 76.24719101123596, 11.688089887640446, 50.32022471910113, 0.4101123595505618, 0.2247191011235955, 0.0056179775280898, 0.0056179775280898, 0.0, 0.0393258426966292, 0.0674157303370786, 0.0, 0.247191011235955, 0.0), (1, '2019-02-22 00:00:00.000000', 22.586822916666677, 18.8590625, 0.37, 42.76, 1019.5416666666666, 77.23958333333333, 3.88296875, 61.52604166666666, 0.2291666666666666, 0.2135416666666666, 0.0416666666666666, 0.0104166666666666, 0.0625, 0.0885416666666666, 0.1302083333333333, 0.0, 0.2239583333333333, 0.0), (2, '2019-03-01 00:00:00.000000', 15.66261904761904, 11.220119047619049, -8.72, 31.91, 1022.6369047619048, 64.56547619047619, 3.630297619047618, 43.05952380952381, 0.4642857142857143, 0.3869047619047619, 0.0, 0.0, 0.0535714285714285, 0.0059523809523809, 0.0, 0.0, 0.0892857142857142, 0.0), (3, '2019-03-08 00:00:00.000000', 34.00781250000003, 31.361770833333352, 5.77, 62.64, 1012.8385416666666, 79.09895833333333, 3.752135416666667, 52.005208333333336, 0.3020833333333333, 0.203125, 0.0572916666666666, 0.0104166666666666, 0.0572916666666666, 0.109375, 0.2395833333333333, 0.0, 0.0208333333333333, 0.0), (4, '2019-03-15 00:00:00.000000', 36.160056818181815, 33.89676136363635, 21.74, 52.23, 1019.306818181818, 71.69886363636364, 3.5036363636363643, 48.09659090909091, 0.3920454545454545, 0.3409090909090909, 0.0284090909090909, 0.0, 0.0511363636363636, 0.0795454545454545, 0.1022727272727272, 0.0, 0.0056818181818181, 0.0), (5, '2019-03-22 00:00:00.000000', 38.9127976190476, 36.530297619047616, 18.03, 61.41, 1022.6607142857144, 63.523809523809526, 3.94422619047619, 21.38095238095238, 0.7202380952380952, 0.25, 0.0, 0.0, 0.0, 0.0, 0.0297619047619047, 0.0, 0.0, 0.0), (6, '2019-03-29 00:00:00.000000', 39.08052325581397, 36.591337209302345, 19.24, 58.23, 1019.9127906976744, 61.16279069767442, 3.921395348837209, 45.872093023255815, 0.4069767441860465, 0.4709302325581395, 0.0116279069767441, 0.0, 0.0, 0.0116279069767441, 0.0930232558139534, 0.0, 0.005813953488372, 0.0), (7, '2019-04-05 00:00:00.000000', 45.8948108108108, 43.35697297297296, 30.74, 74.57, 1014.4270270270272, 77.34594594594594, 4.632432432432433, 57.086486486486486, 0.2054054054054054, 0.2324324324324324, 0.0162162162162162, 0.0, 0.0648648648648648, 0.1675675675675675, 0.254054054054054, 0.0, 0.0594594594594594, 0.0)  ... displaying 10 of 136 total bound parameter sets ...  (134, '2021-09-10 00:00:00.000000', 67.38202380952384, 67.39464285714286, 48.97, 87.76, 1014.9583333333334, 74.76785714285714, 5.763690476190478, 32.38690476190476, 0.5595238095238095, 0.3869047619047619, 0.0, 0.0, 0.0178571428571428, 0.0178571428571428, 0.0178571428571428, 0.0, 0.0, 0.0), (135, '2021-09-17 00:00:00.000000', 69.26265306122448, 69.39673469387755, 50.74, 87.76, 1018.1224489795918, 72.01020408163265, 5.810918367346942, 13.551020408163266, 0.8061224489795918, 0.0306122448979591, 0.0, 0.0, 0.0, 0.0204081632653061, 0.1428571428571428, 0.0, 0.0, 0.0))\n",
      "2021-10-06 19:14:48,785 INFO sqlalchemy.engine.Engine COMMIT\n"
     ]
    }
   ],
   "source": [
    "#save df to sqlite table\n",
    "weather_df.to_sql('weather', con=engine, if_exists=\"append\")"
   ]
  },
  {
   "cell_type": "code",
   "execution_count": null,
   "id": "fff5e622",
   "metadata": {},
   "outputs": [],
   "source": []
  },
  {
   "cell_type": "code",
   "execution_count": null,
   "id": "24f7dfa8",
   "metadata": {},
   "outputs": [],
   "source": [
    "#create a new dataframe to hold the merged sales and weather data\n",
    "new_sales_df = pd.merge(sales_df, weather_df, left_on=sales_df['date'], right_on=weather_df['dt'])\n",
    "#copying redundant columns\n",
    "new_sales_df = new_sales_df.drop(columns=['date', 'dt'])\n",
    "#rename leftmost column\n",
    "new_sales_df = new_sales_df.rename(columns={'key_0': 'date'})"
   ]
  },
  {
   "cell_type": "code",
   "execution_count": null,
   "id": "6790a32d",
   "metadata": {},
   "outputs": [],
   "source": [
    "new_sales_df"
   ]
  }
 ],
 "metadata": {
  "kernelspec": {
   "display_name": "mlenv",
   "language": "python",
   "name": "mlenv"
  },
  "language_info": {
   "codemirror_mode": {
    "name": "ipython",
    "version": 3
   },
   "file_extension": ".py",
   "mimetype": "text/x-python",
   "name": "python",
   "nbconvert_exporter": "python",
   "pygments_lexer": "ipython3",
   "version": "3.7.10"
  }
 },
 "nbformat": 4,
 "nbformat_minor": 5
}
